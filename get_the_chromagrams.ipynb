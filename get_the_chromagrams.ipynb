{
 "cells": [
  {
   "attachments": {},
   "cell_type": "markdown",
   "id": "495959a0",
   "metadata": {},
   "source": [
    "In this file we get the chromagrams :)"
   ]
  },
  {
   "cell_type": "code",
   "execution_count": 1,
   "id": "6456a8b5",
   "metadata": {},
   "outputs": [],
   "source": [
    "#!pip install librosa\n",
    "from pathlib import Path\n",
    "import os\n",
    "import pandas as pd\n",
    "import librosa\n",
    "import re\n",
    "import matplotlib.pyplot as plt\n",
    "import numpy as np\n",
    "from scipy.signal import butter, sosfiltfilt\n",
    "import cv2\n",
    "\n",
    "from sklearn.decomposition import PCA\n",
    "from sklearn.cluster import KMeans\n",
    "from sklearn.metrics import silhouette_score, silhouette_samples"
   ]
  },
  {
   "cell_type": "code",
   "execution_count": 2,
   "id": "4f21b0e8",
   "metadata": {},
   "outputs": [],
   "source": [
    "#constants\n",
    "SR = 22050"
   ]
  },
  {
   "cell_type": "code",
   "execution_count": 3,
   "id": "a7ea7418",
   "metadata": {},
   "outputs": [],
   "source": [
    "DIR = './dataset/songs_extracted'"
   ]
  },
  {
   "cell_type": "code",
   "execution_count": 4,
   "id": "8b90c0e6",
   "metadata": {},
   "outputs": [],
   "source": [
    "#function that loads the songs from the songs_extracted dataset\n",
    "def load_songs_extracted(directory):\n",
    "    data = []\n",
    "    for bird_names in os.listdir(directory)[:10]:\n",
    "        path_bird_names = os.path.join(directory, bird_names)\n",
    "        if os.path.isdir(path_bird_names):\n",
    "            for channel in os.listdir(path_bird_names):\n",
    "                if channel == \"CH2\":\n",
    "                    path_channel  = os.path.join(path_bird_names, channel)\n",
    "                    if os.path.isdir(path_channel):\n",
    "                        for song in  os.listdir(path_channel):\n",
    "                            song_num = int(re.search('\\d+', song).group())\n",
    "                            path_song = os.path.join(path_channel, song)\n",
    "                            signal, sr = librosa.load(path_song)\n",
    "                            data.append([bird_names, song_num, sr, signal]) #channel is CH2 by default\n",
    "\n",
    "    # return dataframe creation\n",
    "    return pd.DataFrame(data, columns=['bird', 'song', 'sr', 'signal'])"
   ]
  },
  {
   "cell_type": "code",
   "execution_count": 5,
   "id": "959e3bc3",
   "metadata": {},
   "outputs": [
    {
     "data": {
      "text/html": [
       "<div>\n",
       "<style scoped>\n",
       "    .dataframe tbody tr th:only-of-type {\n",
       "        vertical-align: middle;\n",
       "    }\n",
       "\n",
       "    .dataframe tbody tr th {\n",
       "        vertical-align: top;\n",
       "    }\n",
       "\n",
       "    .dataframe thead th {\n",
       "        text-align: right;\n",
       "    }\n",
       "</style>\n",
       "<table border=\"1\" class=\"dataframe\">\n",
       "  <thead>\n",
       "    <tr style=\"text-align: right;\">\n",
       "      <th></th>\n",
       "      <th>bird</th>\n",
       "      <th>song</th>\n",
       "      <th>sr</th>\n",
       "      <th>signal</th>\n",
       "    </tr>\n",
       "  </thead>\n",
       "  <tbody>\n",
       "    <tr>\n",
       "      <th>0</th>\n",
       "      <td>reginald_con</td>\n",
       "      <td>6</td>\n",
       "      <td>22050</td>\n",
       "      <td>[-0.0002275218, -9.055339e-05, 0.00016206059, ...</td>\n",
       "    </tr>\n",
       "    <tr>\n",
       "      <th>1</th>\n",
       "      <td>reginald_con</td>\n",
       "      <td>73</td>\n",
       "      <td>22050</td>\n",
       "      <td>[0.00046550576, 0.00059071305, 0.00023334507, ...</td>\n",
       "    </tr>\n",
       "    <tr>\n",
       "      <th>2</th>\n",
       "      <td>reginald_con</td>\n",
       "      <td>20</td>\n",
       "      <td>22050</td>\n",
       "      <td>[0.00013039293, -7.703958e-05, -0.00013563978,...</td>\n",
       "    </tr>\n",
       "    <tr>\n",
       "      <th>3</th>\n",
       "      <td>reginald_con</td>\n",
       "      <td>50</td>\n",
       "      <td>22050</td>\n",
       "      <td>[-2.1934313e-05, -5.5870634e-05, -5.6157674e-0...</td>\n",
       "    </tr>\n",
       "    <tr>\n",
       "      <th>4</th>\n",
       "      <td>reginald_con</td>\n",
       "      <td>4</td>\n",
       "      <td>22050</td>\n",
       "      <td>[0.00026778644, 0.00013458135, -0.00020446077,...</td>\n",
       "    </tr>\n",
       "  </tbody>\n",
       "</table>\n",
       "</div>"
      ],
      "text/plain": [
       "           bird  song     sr  \\\n",
       "0  reginald_con     6  22050   \n",
       "1  reginald_con    73  22050   \n",
       "2  reginald_con    20  22050   \n",
       "3  reginald_con    50  22050   \n",
       "4  reginald_con     4  22050   \n",
       "\n",
       "                                              signal  \n",
       "0  [-0.0002275218, -9.055339e-05, 0.00016206059, ...  \n",
       "1  [0.00046550576, 0.00059071305, 0.00023334507, ...  \n",
       "2  [0.00013039293, -7.703958e-05, -0.00013563978,...  \n",
       "3  [-2.1934313e-05, -5.5870634e-05, -5.6157674e-0...  \n",
       "4  [0.00026778644, 0.00013458135, -0.00020446077,...  "
      ]
     },
     "execution_count": 5,
     "metadata": {},
     "output_type": "execute_result"
    }
   ],
   "source": [
    "df = load_songs_extracted(Path(DIR))\n",
    "df.head()"
   ]
  },
  {
   "cell_type": "code",
   "execution_count": 6,
   "id": "57aa889c",
   "metadata": {},
   "outputs": [
    {
     "data": {
      "text/plain": [
       "(1478, 4)"
      ]
     },
     "execution_count": 6,
     "metadata": {},
     "output_type": "execute_result"
    }
   ],
   "source": [
    "df.shape"
   ]
  },
  {
   "cell_type": "markdown",
   "id": "ca4ea50d",
   "metadata": {},
   "source": [
    "# Preprocessing\n",
    "\n",
    "truncation: understand if having signals of different length is a problem\n",
    "\n",
    "normalization: understand how and if to normalize (-1,1)"
   ]
  },
  {
   "cell_type": "markdown",
   "id": "5e3bed97",
   "metadata": {},
   "source": [
    "### Padding"
   ]
  },
  {
   "cell_type": "code",
   "execution_count": 7,
   "id": "562b8f13",
   "metadata": {},
   "outputs": [
    {
     "name": "stdout",
     "output_type": "stream",
     "text": [
      "mean: 73538\n",
      "standard deviation: 28347.52760631865\n",
      "1319 signals are not truncated out of 1478\n",
      "242550\n"
     ]
    }
   ],
   "source": [
    "df['signal_length'] = df['signal'].apply(lambda x: len(x))\n",
    "mean = np.mean(df['signal_length'])\n",
    "mean = int(mean)\n",
    "print('mean:', mean)\n",
    "print('standard deviation:', np.std(df['signal_length']))\n",
    "print(df[df['signal_length'] < 100000]['signal_length'].count(), 'signals are not truncated out of', df['signal_length'].count())\n",
    "\n",
    "policy = 'truncation' #'padding'\n",
    "\n",
    "if policy == 'padding':\n",
    "    maxim = np.max(df['signal_length'])\n",
    "    print(maxim)\n",
    "    df['padded_signal'] = df['signal'].apply(lambda x: np.pad(x, (0, maxim-len(x))) )\n",
    "    \n",
    "elif policy == 'truncation':\n",
    "    #TODO truncation\n",
    "    trunc_thresh = 11*22050  #maxim\n",
    "    #padding\n",
    "    df['padded_signal'] = df['signal'].apply(lambda x: np.pad(x, (0, trunc_thresh-len(x))) if len(x)<trunc_thresh else x) \n",
    "    #truncation\n",
    "    df['padded_signal'] = df['padded_signal'].apply(lambda x: x[0:trunc_thresh] if len(x)>trunc_thresh else x) \n",
    "    \n",
    "print(len(df['padded_signal'][1]))"
   ]
  },
  {
   "cell_type": "markdown",
   "id": "105c7ad0",
   "metadata": {},
   "source": [
    "### Filtering\n",
    "We read on nscnet that they removed the noise.\n",
    "We followed their idea, but are not sure if ch1 (the one they used) is more noisy than ch2 and so we don't need it.\n",
    "\n",
    "We need to find a way to properly asses the level of noise in the data."
   ]
  },
  {
   "cell_type": "code",
   "execution_count": 8,
   "id": "7f12d3c5",
   "metadata": {},
   "outputs": [],
   "source": [
    "sr = SR     \n",
    "order = 5\n",
    "lf = 1500\n",
    "filtered = []\n",
    "def high_pass(sig):\n",
    "    nyq = sr/2\n",
    "    sos = butter(order, [lf/nyq], analog=False, btype='highpass', output='sos')\n",
    "    return sosfiltfilt(sos,sig)\n",
    "\n",
    "df['filtered_signal'] = df['padded_signal'].apply(lambda x: high_pass(x))    "
   ]
  },
  {
   "cell_type": "markdown",
   "id": "55c29d1d",
   "metadata": {},
   "source": [
    "### Chromagrams"
   ]
  },
  {
   "cell_type": "code",
   "execution_count": null,
   "id": "7b6aa35f",
   "metadata": {},
   "outputs": [],
   "source": [
    "chromagrams = []\n",
    "for signal in df['filtered_signal']:\n",
    "    chrom = librosa.feature.chroma_stft(y=signal, sr=SR)\n",
    "    chromagrams.append(chrom)\n",
    "    \n",
    "#chromagrams = df['normalized_signal'].apply(lambda x: librosa.feature.chroma_stft(y=x, sr=SR))"
   ]
  },
  {
   "cell_type": "code",
   "execution_count": null,
   "id": "2c63818e",
   "metadata": {},
   "outputs": [
    {
     "name": "stdout",
     "output_type": "stream",
     "text": [
      "116\n"
     ]
    }
   ],
   "source": [
    "#chromagrams\n",
    "print(len(chromagrams))"
   ]
  },
  {
   "cell_type": "code",
   "execution_count": null,
   "id": "78477c29",
   "metadata": {},
   "outputs": [
    {
     "data": {
      "text/plain": [
       "<Figure size 2160x720 with 0 Axes>"
      ]
     },
     "metadata": {},
     "output_type": "display_data"
    }
   ],
   "source": [
    "plt.figure(figsize=(30, 10))\n",
    "for i in range(len(chromagrams)):\n",
    "\tlibrosa.display.specshow(chromagrams[i], x_axis='time', y_axis='chroma', hop_length=512, cmap='coolwarm')\n",
    "\tplt.savefig(\"chromagrams/\" + str(i) + \"out.png\", bbox_inches='tight', facecolor='white')\n",
    "\tplt.clf()\n"
   ]
  }
 ],
 "metadata": {
  "kernelspec": {
   "display_name": "Python 3",
   "language": "python",
   "name": "python3"
  },
  "language_info": {
   "codemirror_mode": {
    "name": "ipython",
    "version": 3
   },
   "file_extension": ".py",
   "mimetype": "text/x-python",
   "name": "python",
   "nbconvert_exporter": "python",
   "pygments_lexer": "ipython3",
   "version": "3.8.10 (default, Nov 14 2022, 12:59:47) \n[GCC 9.4.0]"
  },
  "vscode": {
   "interpreter": {
    "hash": "916dbcbb3f70747c44a77c7bcd40155683ae19c65e1c03b4aa3499c5328201f1"
   }
  }
 },
 "nbformat": 4,
 "nbformat_minor": 5
}
