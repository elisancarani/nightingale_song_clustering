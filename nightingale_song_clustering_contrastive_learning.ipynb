{
  "cells": [
    {
      "cell_type": "markdown",
      "id": "49a3cb5c",
      "metadata": {
        "id": "49a3cb5c"
      },
      "source": [
        "# TO DO\n",
        "* IMAGE SIZE - 512 * 64 (why?)\n",
        "* try spectogram: chromagram (raw waveforms (not a spect.))\n",
        "* try transformer\n",
        "\n",
        "* TRY NORMALISE THE CHROMAGRAM\n",
        "* SR - TRY TO TAKE SR VALUES FROM THE DATASET\n",
        "\n",
        "\n",
        "* SIMPLE BASENET\n",
        "* IMPROVE VAE NET\n",
        "* LOOK INTO NSCNET ALTERNATIVES\n",
        "* LOOK INTO METRIC LEARNING AND SIMILARITY RETRIEVAL"
      ]
    },
    {
      "cell_type": "markdown",
      "id": "3696f13e",
      "metadata": {
        "id": "3696f13e"
      },
      "source": [
        "# TO ASK THE TUTOR\n",
        "\n",
        "WHAT THE TUTOR SAID\n",
        "\n",
        "noise: analyzing the noise in an empirical way--> listening to the songs\n",
        "alternative: we could fine tune the threshold\n",
        "\n",
        "normalize out of all the songs\n",
        "\n",
        "make sure the padding doesn't interfere with other images"
      ]
    },
    {
      "cell_type": "markdown",
      "id": "4561e342",
      "metadata": {
        "id": "4561e342"
      },
      "source": [
        "# look at the data\n",
        "analyze duration, understand how big to make the chromagram images\n",
        "\n",
        "    the images are the same size, but the same amount of of time is different in different signals\n",
        "    \n",
        "    let's choose a threshold where to truncate and pad\n",
        "    \n",
        "analyze frequencies, are there frequencies we should cut\n",
        "\n",
        "    is there noise we should cut (we don't think so)\n",
        "    \n",
        "do the chromagram"
      ]
    },
    {
      "cell_type": "markdown",
      "id": "495959a0",
      "metadata": {
        "id": "495959a0"
      },
      "source": [
        "# Utils\n",
        "\n",
        "* https://analyticsindiamag.com/a-tutorial-on-spectral-feature-extraction-for-audio-analytics/\n",
        "\n",
        "* https://ridakhan5.medium.com/audio-clustering-with-deep-learning-a7991d605fa5\n",
        "\n",
        "* https://www.kdnuggets.com/2020/02/audio-data-analysis-deep-learning-python-part-1.html\n",
        "\n",
        "* https://www.researchgate.net/publication/333427516_Feature_Learning_for_Bird_Call_Clustering\n",
        "\n",
        "* https://medium.com/heuristics/audio-signal-feature-extraction-and-clustering-935319d2225\n",
        "\n",
        "* https://www.kdnuggets.com/2020/02/audio-data-analysis-deep-learning-python-part-1.html\n",
        "\n",
        "* https://musicinformationretrieval.com/kmeans.html\n",
        "\n",
        "* Feature Normalization: https://www.hackaudio.com/digital-signal-processing/amplitude/peak-normalization/#:~:text=Normalizing%20the%20amplitude%20of%20a,magnitude%20equals%20a%20specified%20level.&text=This%20opens%20in%20a%20new%20window.&text=Peak%20amplitude%20is%20a%20measurement%20based%20the%20instantaneous%20level%20of%20a%20signal.\n",
        "\n",
        "* https://www.audiolabs-erlangen.de/resources/MIR/FMP/C3/C3S1_FeatureNormalization.html\n",
        "\n",
        "* https://stackoverflow.com/questions/48257311/signal-processing-can-someone-explain-for-me-the-different-type-of-spectrogram\n",
        "\n",
        "* https://www.geeksforgeeks.org/plotting-a-spectrogram-using-python-and-matplotlib/\n",
        "\n",
        "* https://it.mathworks.com/matlabcentral/answers/319352-how-do-i-perform-clustering-of-audio-signal\n",
        "\n",
        "wav files seconds\n",
        "* https://stackoverflow.com/questions/13039846/what-do-the-bytes-in-a-wav-file-represent"
      ]
    },
    {
      "cell_type": "code",
      "execution_count": null,
      "id": "6456a8b5",
      "metadata": {
        "id": "6456a8b5"
      },
      "outputs": [],
      "source": [
        "#!pip install librosa\n",
        "from pathlib import Path\n",
        "import os\n",
        "import pandas as pd\n",
        "import librosa\n",
        "import re\n",
        "import matplotlib.pyplot as plt\n",
        "import numpy as np\n",
        "from scipy.signal import butter, sosfiltfilt\n",
        "\n",
        "from sklearn.decomposition import PCA\n",
        "from sklearn.cluster import KMeans\n",
        "from sklearn.metrics import silhouette_score, silhouette_samples"
      ]
    },
    {
      "cell_type": "code",
      "execution_count": null,
      "id": "4f21b0e8",
      "metadata": {
        "id": "4f21b0e8"
      },
      "outputs": [],
      "source": [
        "#constants\n",
        "SR = 22050"
      ]
    },
    {
      "cell_type": "code",
      "execution_count": null,
      "id": "a7ea7418",
      "metadata": {
        "id": "a7ea7418"
      },
      "outputs": [],
      "source": [
        "DIR = './drive/MyDrive/Colab Notebooks/aiti_project/dataset/songs_extracted'"
      ]
    },
    {
      "cell_type": "code",
      "source": [
        "from google.colab import drive\n",
        "drive.mount('/content/drive')\n",
        "!ls /content/drive/MyDrive"
      ],
      "metadata": {
        "colab": {
          "base_uri": "https://localhost:8080/"
        },
        "id": "yl1BB_7R_Lbb",
        "outputId": "029ab3d3-5858-43dd-9776-92def82a0222"
      },
      "id": "yl1BB_7R_Lbb",
      "execution_count": null,
      "outputs": [
        {
          "output_type": "stream",
          "name": "stdout",
          "text": [
            "Mounted at /content/drive\n",
            " apartments.gsheet   Old_dl_colab_notebooks\n",
            "'Colab Notebooks'    tiny-imagenet-200.zip\n"
          ]
        }
      ]
    },
    {
      "cell_type": "code",
      "execution_count": null,
      "id": "8b90c0e6",
      "metadata": {
        "id": "8b90c0e6"
      },
      "outputs": [],
      "source": [
        "#function that loads the songs from the songs_extracted dataset\n",
        "def load_songs_extracted(directory):\n",
        "    data = []\n",
        "    for bird_names in os.listdir(directory):#[:1]:\n",
        "        path_bird_names = os.path.join(directory, bird_names)\n",
        "        if os.path.isdir(path_bird_names):\n",
        "            for channel in os.listdir(path_bird_names):\n",
        "                if channel == \"CH2\":\n",
        "                    path_channel  = os.path.join(path_bird_names, channel)\n",
        "                    if os.path.isdir(path_channel):\n",
        "                        for song in  os.listdir(path_channel):\n",
        "                            song_num = int(re.search('\\d+', song).group())\n",
        "                            path_song = os.path.join(path_channel, song)\n",
        "                            signal, sr = librosa.load(path_song)\n",
        "                            data.append([bird_names, song_num, sr, signal]) #channel is CH2 by default\n",
        "\n",
        "    # return dataframe creation\n",
        "    return pd.DataFrame(data, columns=['bird', 'song', 'sr', 'signal'])"
      ]
    },
    {
      "cell_type": "code",
      "execution_count": null,
      "id": "959e3bc3",
      "metadata": {
        "colab": {
          "base_uri": "https://localhost:8080/",
          "height": 206
        },
        "id": "959e3bc3",
        "outputId": "58423acd-50fe-4eb5-8010-2046a95261fb"
      },
      "outputs": [
        {
          "output_type": "execute_result",
          "data": {
            "text/plain": [
              "         bird  song     sr                                             signal\n",
              "0  andrei_bos   102  22050  [-0.004434305, -0.0046334974, -0.0007038029, 0...\n",
              "1  andrei_bos   119  22050  [-0.0023026452, -0.0045605716, -0.0018705465, ...\n",
              "2  andrei_bos   103  22050  [-0.0030055528, -0.004927803, -0.0034849318, -...\n",
              "3  andrei_bos   106  22050  [0.00016273024, 0.00023529833, 0.00029498542, ...\n",
              "4  andrei_bos   110  22050  [0.00023514929, 0.0016683282, 0.003041996, 0.0..."
            ],
            "text/html": [
              "\n",
              "  <div id=\"df-7d434142-86d1-4082-a33a-1a37e96ab4a9\">\n",
              "    <div class=\"colab-df-container\">\n",
              "      <div>\n",
              "<style scoped>\n",
              "    .dataframe tbody tr th:only-of-type {\n",
              "        vertical-align: middle;\n",
              "    }\n",
              "\n",
              "    .dataframe tbody tr th {\n",
              "        vertical-align: top;\n",
              "    }\n",
              "\n",
              "    .dataframe thead th {\n",
              "        text-align: right;\n",
              "    }\n",
              "</style>\n",
              "<table border=\"1\" class=\"dataframe\">\n",
              "  <thead>\n",
              "    <tr style=\"text-align: right;\">\n",
              "      <th></th>\n",
              "      <th>bird</th>\n",
              "      <th>song</th>\n",
              "      <th>sr</th>\n",
              "      <th>signal</th>\n",
              "    </tr>\n",
              "  </thead>\n",
              "  <tbody>\n",
              "    <tr>\n",
              "      <th>0</th>\n",
              "      <td>andrei_bos</td>\n",
              "      <td>102</td>\n",
              "      <td>22050</td>\n",
              "      <td>[-0.004434305, -0.0046334974, -0.0007038029, 0...</td>\n",
              "    </tr>\n",
              "    <tr>\n",
              "      <th>1</th>\n",
              "      <td>andrei_bos</td>\n",
              "      <td>119</td>\n",
              "      <td>22050</td>\n",
              "      <td>[-0.0023026452, -0.0045605716, -0.0018705465, ...</td>\n",
              "    </tr>\n",
              "    <tr>\n",
              "      <th>2</th>\n",
              "      <td>andrei_bos</td>\n",
              "      <td>103</td>\n",
              "      <td>22050</td>\n",
              "      <td>[-0.0030055528, -0.004927803, -0.0034849318, -...</td>\n",
              "    </tr>\n",
              "    <tr>\n",
              "      <th>3</th>\n",
              "      <td>andrei_bos</td>\n",
              "      <td>106</td>\n",
              "      <td>22050</td>\n",
              "      <td>[0.00016273024, 0.00023529833, 0.00029498542, ...</td>\n",
              "    </tr>\n",
              "    <tr>\n",
              "      <th>4</th>\n",
              "      <td>andrei_bos</td>\n",
              "      <td>110</td>\n",
              "      <td>22050</td>\n",
              "      <td>[0.00023514929, 0.0016683282, 0.003041996, 0.0...</td>\n",
              "    </tr>\n",
              "  </tbody>\n",
              "</table>\n",
              "</div>\n",
              "      <button class=\"colab-df-convert\" onclick=\"convertToInteractive('df-7d434142-86d1-4082-a33a-1a37e96ab4a9')\"\n",
              "              title=\"Convert this dataframe to an interactive table.\"\n",
              "              style=\"display:none;\">\n",
              "        \n",
              "  <svg xmlns=\"http://www.w3.org/2000/svg\" height=\"24px\"viewBox=\"0 0 24 24\"\n",
              "       width=\"24px\">\n",
              "    <path d=\"M0 0h24v24H0V0z\" fill=\"none\"/>\n",
              "    <path d=\"M18.56 5.44l.94 2.06.94-2.06 2.06-.94-2.06-.94-.94-2.06-.94 2.06-2.06.94zm-11 1L8.5 8.5l.94-2.06 2.06-.94-2.06-.94L8.5 2.5l-.94 2.06-2.06.94zm10 10l.94 2.06.94-2.06 2.06-.94-2.06-.94-.94-2.06-.94 2.06-2.06.94z\"/><path d=\"M17.41 7.96l-1.37-1.37c-.4-.4-.92-.59-1.43-.59-.52 0-1.04.2-1.43.59L10.3 9.45l-7.72 7.72c-.78.78-.78 2.05 0 2.83L4 21.41c.39.39.9.59 1.41.59.51 0 1.02-.2 1.41-.59l7.78-7.78 2.81-2.81c.8-.78.8-2.07 0-2.86zM5.41 20L4 18.59l7.72-7.72 1.47 1.35L5.41 20z\"/>\n",
              "  </svg>\n",
              "      </button>\n",
              "      \n",
              "  <style>\n",
              "    .colab-df-container {\n",
              "      display:flex;\n",
              "      flex-wrap:wrap;\n",
              "      gap: 12px;\n",
              "    }\n",
              "\n",
              "    .colab-df-convert {\n",
              "      background-color: #E8F0FE;\n",
              "      border: none;\n",
              "      border-radius: 50%;\n",
              "      cursor: pointer;\n",
              "      display: none;\n",
              "      fill: #1967D2;\n",
              "      height: 32px;\n",
              "      padding: 0 0 0 0;\n",
              "      width: 32px;\n",
              "    }\n",
              "\n",
              "    .colab-df-convert:hover {\n",
              "      background-color: #E2EBFA;\n",
              "      box-shadow: 0px 1px 2px rgba(60, 64, 67, 0.3), 0px 1px 3px 1px rgba(60, 64, 67, 0.15);\n",
              "      fill: #174EA6;\n",
              "    }\n",
              "\n",
              "    [theme=dark] .colab-df-convert {\n",
              "      background-color: #3B4455;\n",
              "      fill: #D2E3FC;\n",
              "    }\n",
              "\n",
              "    [theme=dark] .colab-df-convert:hover {\n",
              "      background-color: #434B5C;\n",
              "      box-shadow: 0px 1px 3px 1px rgba(0, 0, 0, 0.15);\n",
              "      filter: drop-shadow(0px 1px 2px rgba(0, 0, 0, 0.3));\n",
              "      fill: #FFFFFF;\n",
              "    }\n",
              "  </style>\n",
              "\n",
              "      <script>\n",
              "        const buttonEl =\n",
              "          document.querySelector('#df-7d434142-86d1-4082-a33a-1a37e96ab4a9 button.colab-df-convert');\n",
              "        buttonEl.style.display =\n",
              "          google.colab.kernel.accessAllowed ? 'block' : 'none';\n",
              "\n",
              "        async function convertToInteractive(key) {\n",
              "          const element = document.querySelector('#df-7d434142-86d1-4082-a33a-1a37e96ab4a9');\n",
              "          const dataTable =\n",
              "            await google.colab.kernel.invokeFunction('convertToInteractive',\n",
              "                                                     [key], {});\n",
              "          if (!dataTable) return;\n",
              "\n",
              "          const docLinkHtml = 'Like what you see? Visit the ' +\n",
              "            '<a target=\"_blank\" href=https://colab.research.google.com/notebooks/data_table.ipynb>data table notebook</a>'\n",
              "            + ' to learn more about interactive tables.';\n",
              "          element.innerHTML = '';\n",
              "          dataTable['output_type'] = 'display_data';\n",
              "          await google.colab.output.renderOutput(dataTable, element);\n",
              "          const docLink = document.createElement('div');\n",
              "          docLink.innerHTML = docLinkHtml;\n",
              "          element.appendChild(docLink);\n",
              "        }\n",
              "      </script>\n",
              "    </div>\n",
              "  </div>\n",
              "  "
            ]
          },
          "metadata": {},
          "execution_count": 6
        }
      ],
      "source": [
        "df = load_songs_extracted(Path(DIR))\n",
        "df.head()"
      ]
    },
    {
      "cell_type": "code",
      "execution_count": null,
      "id": "57aa889c",
      "metadata": {
        "colab": {
          "base_uri": "https://localhost:8080/"
        },
        "id": "57aa889c",
        "outputId": "bf546558-d247-4154-f559-74b3c717a115"
      },
      "outputs": [
        {
          "output_type": "execute_result",
          "data": {
            "text/plain": [
              "(1624, 4)"
            ]
          },
          "metadata": {},
          "execution_count": 7
        }
      ],
      "source": [
        "df.shape"
      ]
    },
    {
      "cell_type": "code",
      "execution_count": null,
      "id": "f8faf293",
      "metadata": {
        "colab": {
          "base_uri": "https://localhost:8080/"
        },
        "id": "f8faf293",
        "outputId": "7b3e8b38-f001-48d9-f867-65eb53c404b9"
      },
      "outputs": [
        {
          "output_type": "stream",
          "name": "stdout",
          "text": [
            "(97462,)\n",
            "[-0.0044343  -0.0046335  -0.0007038  ...  0.00019592  0.00109899\n",
            "  0.00162328]\n"
          ]
        }
      ],
      "source": [
        "print(df['signal'][0].shape)\n",
        "print(df['signal'][0])"
      ]
    },
    {
      "cell_type": "code",
      "execution_count": null,
      "id": "cdfbc19e",
      "metadata": {
        "colab": {
          "base_uri": "https://localhost:8080/",
          "height": 76
        },
        "id": "cdfbc19e",
        "outputId": "8ac57d1d-e396-40ad-edfd-94de3beab8df"
      },
      "outputs": [
        {
          "output_type": "execute_result",
          "data": {
            "text/plain": [
              "<IPython.lib.display.Audio object>"
            ],
            "text/html": [
              "\n",
              "                <audio  controls=\"controls\" >\n",
              "                    <source src=\"data:audio/wav;base64,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\" type=\"audio/wav\" />\n",
              "                    Your browser does not support the audio element.\n",
              "                </audio>\n",
              "              "
            ]
          },
          "metadata": {},
          "execution_count": 9
        }
      ],
      "source": [
        "import IPython.display as ipd\n",
        "ipd.Audio(df.iloc[0]['signal'], rate=SR)"
      ]
    },
    {
      "cell_type": "markdown",
      "id": "ca4ea50d",
      "metadata": {
        "id": "ca4ea50d"
      },
      "source": [
        "# Preprocessing\n",
        "\n",
        "truncation: understand if having signals of different length is a problem\n",
        "\n",
        "normalization: understand how and if to normalize (-1,1)"
      ]
    },
    {
      "cell_type": "markdown",
      "id": "5e3bed97",
      "metadata": {
        "id": "5e3bed97"
      },
      "source": [
        "### Padding"
      ]
    },
    {
      "cell_type": "code",
      "execution_count": null,
      "id": "562b8f13",
      "metadata": {
        "id": "562b8f13"
      },
      "outputs": [],
      "source": [
        "def pad_signals(df, policy = \"truncation\", seconds = 11):\n",
        "\n",
        "    df['signal_length'] = df['signal'].apply(lambda x: len(x))\n",
        "    mean = np.mean(df['signal_length'])\n",
        "    mean = int(mean)\n",
        "    print('mean:', mean)\n",
        "    print('standard deviation:', np.std(df['signal_length']))\n",
        "    print(df[df['signal_length'] < 100000]['signal_length'].count(), 'signals are not truncated out of', df['signal_length'].count())\n",
        "\n",
        "    if policy == 'padding':\n",
        "        maxim = np.max(df['signal_length'])\n",
        "        print(maxim)\n",
        "        df['padded_signal'] = df['signal'].apply(lambda x: np.pad(x, (0, maxim-len(x))) )\n",
        "\n",
        "    elif policy == 'truncation':\n",
        "        #TODO truncation\n",
        "        trunc_thresh = seconds*22050  #maxim\n",
        "        #padding\n",
        "        df['padded_signal'] = df['signal'].apply(lambda x: np.pad(x, (0, trunc_thresh-len(x))) if len(x)<trunc_thresh else x) \n",
        "        #truncation\n",
        "        df['padded_signal'] = df['padded_signal'].apply(lambda x: x[0:trunc_thresh] if len(x)>trunc_thresh else x) \n",
        "\n",
        "    print(len(df['padded_signal'][1]))\n",
        "    return df    "
      ]
    },
    {
      "cell_type": "code",
      "execution_count": null,
      "id": "d6f02647",
      "metadata": {
        "colab": {
          "base_uri": "https://localhost:8080/"
        },
        "id": "d6f02647",
        "outputId": "5560ff7c-65a0-46bc-f4d6-15e781cfb97b"
      },
      "outputs": [
        {
          "output_type": "stream",
          "name": "stdout",
          "text": [
            "mean: 67598\n",
            "standard deviation: 28258.9074562869\n",
            "1472 signals are not truncated out of 1624\n",
            "242550\n"
          ]
        }
      ],
      "source": [
        "df = pad_signals(df, policy = \"truncation\", seconds = 11)"
      ]
    },
    {
      "cell_type": "markdown",
      "id": "4b23aa4e",
      "metadata": {
        "id": "4b23aa4e"
      },
      "source": [
        "### Amplitude Normalization\n",
        "if we want to normalize the signals using their own max value for each, we don't need to do it\n",
        "cause the chromagram ALREADY DOES IT\n",
        "\n",
        "we can try to normalize all the signals together using the highest value in all the dataset\n",
        "so the relationships between signal amplitudes is kept\n",
        "\n",
        "here we are doing the first method"
      ]
    },
    {
      "cell_type": "code",
      "execution_count": null,
      "id": "3c6c883d",
      "metadata": {
        "colab": {
          "base_uri": "https://localhost:8080/"
        },
        "id": "3c6c883d",
        "outputId": "2a4afb3b-bae3-4cec-e430-d693aca3249a"
      },
      "outputs": [
        {
          "output_type": "stream",
          "name": "stdout",
          "text": [
            "0.8427134\n"
          ]
        }
      ],
      "source": [
        "max_df = df['padded_signal'].apply(lambda x : np.max(np.abs(x))).max()\n",
        "print(max_df)"
      ]
    },
    {
      "cell_type": "code",
      "execution_count": null,
      "id": "7c0601b4",
      "metadata": {
        "colab": {
          "base_uri": "https://localhost:8080/"
        },
        "id": "7c0601b4",
        "outputId": "fefb1a68-3ab9-42b2-a7ed-9fccaaf3c8ad"
      },
      "outputs": [
        {
          "output_type": "stream",
          "name": "stdout",
          "text": [
            "0.662962\n"
          ]
        }
      ],
      "source": [
        "df['normalized_signal'] = df['padded_signal'].apply(lambda x: x/max_df)\n",
        "\n",
        "#df['normalized_signal'] = df['padded_signal'].apply(lambda x: x/np.max(np.abs(x)))\n",
        "print(np.max(np.abs(df['normalized_signal'][0])))"
      ]
    },
    {
      "cell_type": "markdown",
      "id": "105c7ad0",
      "metadata": {
        "id": "105c7ad0"
      },
      "source": [
        "### Filtering\n",
        "We read on nscnet that they removed the noise.\n",
        "We followed their idea, but are not sure if ch1 (the one they used) is more noisy than ch2 and so we don't need it.\n",
        "\n",
        "We need to find a way to properly asses the level of noise in the data."
      ]
    },
    {
      "cell_type": "code",
      "execution_count": null,
      "id": "7f12d3c5",
      "metadata": {
        "id": "7f12d3c5"
      },
      "outputs": [],
      "source": [
        "sr = SR     \n",
        "order = 5\n",
        "lf = 1500\n",
        "filtered = []\n",
        "def high_pass(sig):\n",
        "    nyq = sr/2\n",
        "    sos = butter(order, [lf/nyq], analog=False, btype='highpass', output='sos')\n",
        "    return sosfiltfilt(sos,sig)\n",
        "\n",
        "df['filtered_signal'] = df['padded_signal'].apply(lambda x: high_pass(x))    "
      ]
    },
    {
      "cell_type": "markdown",
      "id": "55c29d1d",
      "metadata": {
        "id": "55c29d1d"
      },
      "source": [
        "### Chromagrams"
      ]
    },
    {
      "cell_type": "code",
      "execution_count": null,
      "id": "7b6aa35f",
      "metadata": {
        "id": "7b6aa35f"
      },
      "outputs": [],
      "source": [
        "chromagrams = []\n",
        "for signal in df['filtered_signal']:\n",
        "    chrom = librosa.feature.chroma_stft(y=signal, sr=SR)\n",
        "    chromagrams.append(chrom)\n",
        "    \n",
        "#chromagrams = df['normalized_signal'].apply(lambda x: librosa.feature.chroma_stft(y=x, sr=SR))"
      ]
    },
    {
      "cell_type": "code",
      "execution_count": null,
      "id": "2c63818e",
      "metadata": {
        "id": "2c63818e"
      },
      "outputs": [],
      "source": [
        "#chromagrams"
      ]
    },
    {
      "cell_type": "code",
      "execution_count": null,
      "id": "1b1475a7",
      "metadata": {
        "colab": {
          "base_uri": "https://localhost:8080/",
          "height": 351
        },
        "id": "1b1475a7",
        "outputId": "ad5cad4e-59f5-44be-c39e-e45ac679953d"
      },
      "outputs": [
        {
          "output_type": "execute_result",
          "data": {
            "text/plain": [
              "<matplotlib.collections.QuadMesh at 0x7f267285ed60>"
            ]
          },
          "metadata": {},
          "execution_count": 17
        },
        {
          "output_type": "display_data",
          "data": {
            "text/plain": [
              "<Figure size 1080x360 with 1 Axes>"
            ],
            "image/png": "[encoded data removed]"
          },
          "metadata": {
            "needs_background": "light"
          }
        }
      ],
      "source": [
        "import librosa.display\n",
        "plt.figure(figsize=(15, 5))\n",
        "librosa.display.specshow(chromagrams[0], x_axis='time', y_axis='hz', hop_length=512, cmap='coolwarm')"
      ]
    },
    {
      "cell_type": "code",
      "execution_count": null,
      "id": "78477c29",
      "metadata": {
        "colab": {
          "base_uri": "https://localhost:8080/",
          "height": 351
        },
        "id": "78477c29",
        "outputId": "96aca2b9-9ad2-4a66-8fca-d93fcf4793b8"
      },
      "outputs": [
        {
          "output_type": "execute_result",
          "data": {
            "text/plain": [
              "<matplotlib.collections.QuadMesh at 0x7f2672718970>"
            ]
          },
          "metadata": {},
          "execution_count": 18
        },
        {
          "output_type": "display_data",
          "data": {
            "text/plain": [
              "<Figure size 1080x360 with 1 Axes>"
            ],
            "image/png": "[encoded data removed]"
          },
          "metadata": {
            "needs_background": "light"
          }
        }
      ],
      "source": [
        "plt.figure(figsize=(15, 5))\n",
        "librosa.display.specshow(chromagrams[120], x_axis='time', y_axis='chroma', hop_length=512, cmap='coolwarm')"
      ]
    },
    {
      "cell_type": "markdown",
      "id": "6538bd28",
      "metadata": {
        "id": "6538bd28"
      },
      "source": [
        "## PCA\n",
        "n_components: either automatic, or with 12 (because we have 12 pitches)"
      ]
    },
    {
      "cell_type": "code",
      "execution_count": null,
      "id": "9c694f58",
      "metadata": {
        "colab": {
          "base_uri": "https://localhost:8080/"
        },
        "id": "9c694f58",
        "outputId": "1fa2b3df-2248-4051-a7e5-86328e947fbe"
      },
      "outputs": [
        {
          "output_type": "stream",
          "name": "stdout",
          "text": [
            "(12, 474)\n",
            "(1624, 12, 474)\n"
          ]
        }
      ],
      "source": [
        "chromagrams_array = np.array(chromagrams)\n",
        "print(chromagrams[0].shape)\n",
        "print(chromagrams_array.shape)\n",
        "\n",
        "#x = pca.fit_transform(chromagrams_array)\n",
        "\n",
        "#pca_chromagrams = chromagrams_array.apply(lambda x: pca.fit_transform(x))\n",
        "\n",
        "pca_chromagrams = []\n",
        "for x in chromagrams:\n",
        "    res = PCA().fit_transform(x)\n",
        "    res = res.reshape(res.shape[0]*res.shape[1])\n",
        "    pca_chromagrams.append(res)"
      ]
    },
    {
      "cell_type": "code",
      "execution_count": null,
      "id": "3a806a4e",
      "metadata": {
        "colab": {
          "base_uri": "https://localhost:8080/"
        },
        "id": "3a806a4e",
        "outputId": "edcce2f8-d036-4957-bf05-f2759a9c61a5"
      },
      "outputs": [
        {
          "output_type": "execute_result",
          "data": {
            "text/plain": [
              "array([[0.02699388, 0.03137827, 0.06908664, ..., 0.        , 0.        ,\n",
              "        0.        ],\n",
              "       [0.20307193, 0.21929792, 0.20763572, ..., 0.        , 0.        ,\n",
              "        0.        ],\n",
              "       [1.        , 1.        , 0.51730488, ..., 0.        , 0.        ,\n",
              "        0.        ],\n",
              "       ...,\n",
              "       [0.03001455, 0.07000478, 0.39137517, ..., 0.        , 0.        ,\n",
              "        0.        ],\n",
              "       [0.03268133, 0.04478961, 0.11847596, ..., 0.        , 0.        ,\n",
              "        0.        ],\n",
              "       [0.02639347, 0.03067261, 0.06150489, ..., 0.        , 0.        ,\n",
              "        0.        ]])"
            ]
          },
          "metadata": {},
          "execution_count": 20
        }
      ],
      "source": [
        "chromagrams_array[0, :, :]"
      ]
    },
    {
      "cell_type": "code",
      "execution_count": null,
      "id": "653c270e",
      "metadata": {
        "id": "653c270e"
      },
      "outputs": [],
      "source": [
        "#librosa.display.specshow(pca_chromagrams[3], x_axis='time', y_axis='chroma', hop_length=512, cmap='coolwarm')"
      ]
    },
    {
      "cell_type": "code",
      "execution_count": null,
      "id": "ed9d637a",
      "metadata": {
        "id": "ed9d637a"
      },
      "outputs": [],
      "source": [
        "'''squared_distances = []\n",
        "for k in range(1,15):\n",
        "    km = KMeans(n_clusters=k)\n",
        "    km = km.fit_transform(pca_chromagrams)\n",
        "    squared_distances.append(km.inertia_)'''\n",
        "\n",
        "#clusters = KMeans(n_clusters=8, max_iter=10, random_state=0).fit_transform(pca_chromagrams)\n",
        "#print(clusters)\n",
        "\n",
        "cluster_number = range(2,120) \n",
        "\n",
        "distortions = []\n",
        "silhouette_scores = []\n",
        "for n in cluster_number:\n",
        "    estimator = KMeans(n_clusters = n, init='k-means++', n_init=10, max_iter=300)\n",
        "    y = estimator.fit_predict(pca_chromagrams)\n",
        "    distortions.append(estimator.inertia_)\n",
        "    silhouette_scores.append(silhouette_score(pca_chromagrams,y))"
      ]
    },
    {
      "cell_type": "code",
      "execution_count": null,
      "id": "8932d615",
      "metadata": {
        "colab": {
          "base_uri": "https://localhost:8080/",
          "height": 729
        },
        "id": "8932d615",
        "outputId": "475332be-1f18-4dc1-aaf1-b7aa1ea80ae2"
      },
      "outputs": [
        {
          "output_type": "display_data",
          "data": {
            "text/plain": [
              "<Figure size 1080x720 with 2 Axes>"
            ],
            "image/png": "[encoded data removed]"
          },
          "metadata": {
            "needs_background": "light"
          }
        }
      ],
      "source": [
        "# Create some mock data\n",
        "t = cluster_number\n",
        "data1 = distortions\n",
        "data2 = silhouette_scores\n",
        "\n",
        "fig, ax1 = plt.subplots(figsize = (15, 10))\n",
        "          \n",
        "color = 'tab:red'\n",
        "ax1.set_xlabel('number of clusters')\n",
        "ax1.set_ylabel('inertia', color=color)\n",
        "ax1.plot(t, data1, color=color)\n",
        "ax1.tick_params(axis='y', labelcolor=color)\n",
        "\n",
        "ax2 = ax1.twinx()  # instantiate a second axes that shares the same x-axis\n",
        "\n",
        "color = 'tab:blue'\n",
        "ax2.set_ylabel('silhouette scores', color=color)  # we already handled the x-label with ax1\n",
        "ax2.plot(t, data2, color=color)\n",
        "ax2.tick_params(axis='y', labelcolor=color)\n",
        "ax2.set_ylim(0,1) # the axis for silhouette is [0,1]\n",
        "\n",
        "fig.tight_layout()  # otherwise the right y-label is slightly clipped\n",
        "\n",
        "plt.show()"
      ]
    },
    {
      "cell_type": "markdown",
      "id": "2bc37b0a",
      "metadata": {
        "id": "2bc37b0a"
      },
      "source": [
        "there's no elbow O.O"
      ]
    },
    {
      "cell_type": "code",
      "execution_count": null,
      "id": "f2eb135a",
      "metadata": {
        "id": "f2eb135a"
      },
      "outputs": [],
      "source": [
        "#librosa.display.specshow(clusters, x_axis='time', y_axis='chroma', hop_length=512, cmap='coolwarm')"
      ]
    },
    {
      "cell_type": "markdown",
      "id": "695d873f",
      "metadata": {
        "id": "695d873f"
      },
      "source": [
        "FOR KMEANS CLUSTERING:\n",
        "compute the predictions:   cluster_predictions = kmeans.fit_predict(x)\n",
        "find an evaluation method he uses silhouette score"
      ]
    },
    {
      "cell_type": "markdown",
      "id": "158b2653",
      "metadata": {
        "id": "158b2653"
      },
      "source": [
        "### plot"
      ]
    },
    {
      "cell_type": "code",
      "execution_count": null,
      "id": "a3c157eb",
      "metadata": {
        "id": "a3c157eb"
      },
      "outputs": [],
      "source": [
        "import matplotlib.pyplot as plt\n",
        "from matplotlib import cm\n",
        "import numpy as np\n",
        "\n",
        "def plot_clusters(X, y, dim, points,\n",
        "                  labels_prefix = 'cluster', \n",
        "                  points_name = 'centroids',\n",
        "                  colors = cm.tab10, # a qualitative map \n",
        "                      # https://matplotlib.org/examples/color/colormaps_reference.html\n",
        "#                   colors = ['brown', 'orange', 'olive', \n",
        "#                             'green', 'cyan', 'blue', \n",
        "#                             'purple', 'pink'],\n",
        "#                   points_color = 'red'\n",
        "                  points_color = cm.tab10(10) # by default the last of the map (to be improved)\n",
        "                 ):\n",
        "    \"\"\"\n",
        "    Plot a two dimensional projection of an array of labelled points\n",
        "    X:      array with at least two columns\n",
        "    y:      vector of labels, length as number of rows in X\n",
        "    dim:    the two columns to project, inside range of X columns, e.g. (0,1)\n",
        "    points: additional points to plot as 'stars'\n",
        "    labels_prefix: prefix to the labels for the legend ['cluster']\n",
        "    points_name:   legend name for the additional points ['centroids']\n",
        "    colors: a color map\n",
        "    points_color: the color for the points\n",
        "    \"\"\"\n",
        "    # plot the labelled (colored) dataset and the points\n",
        "    labels = np.unique(y)\n",
        "    for i in range(len(labels)):\n",
        "        color = colors(i / len(labels)) # choose a color from the map\n",
        "        plt.scatter(X[y==labels[i],dim[0]], \n",
        "                    X[y==labels[i],dim[1]], \n",
        "                    s=10, \n",
        "                    c = [color], # scatter requires a sequence of colors\n",
        "                    marker='s', \n",
        "                    label=labels_prefix+str(labels[i]))\n",
        "    plt.scatter(points[:,dim[0]], \n",
        "                points[:,dim[1]], \n",
        "                s=50, \n",
        "                marker='*', \n",
        "                c=[points_color], \n",
        "                label=points_name)\n",
        "    plt.legend()\n",
        "    plt.grid()\n",
        "    plt.show() "
      ]
    },
    {
      "cell_type": "code",
      "execution_count": null,
      "id": "f82a7bd8",
      "metadata": {
        "colab": {
          "base_uri": "https://localhost:8080/"
        },
        "id": "f82a7bd8",
        "outputId": "9cdd9872-25d3-4c9a-e420-d9f1819ac5ed"
      },
      "outputs": [
        {
          "output_type": "stream",
          "name": "stdout",
          "text": [
            "(1624, 144)\n"
          ]
        }
      ],
      "source": [
        "X = np.array(pca_chromagrams)\n",
        "print(X.shape)"
      ]
    },
    {
      "cell_type": "code",
      "execution_count": null,
      "id": "84b7eac2",
      "metadata": {
        "id": "84b7eac2"
      },
      "outputs": [],
      "source": [
        "# to fill\n",
        "good_k = 15\n",
        "\n",
        "estimator = KMeans(n_clusters = good_k, init='k-means++', n_init=10, max_iter=300,)\n",
        "y = estimator.fit_predict(X)\n",
        "\n",
        "#estimator.cluster_centers_"
      ]
    },
    {
      "cell_type": "code",
      "execution_count": null,
      "id": "c0b6851f",
      "metadata": {
        "id": "c0b6851f"
      },
      "outputs": [],
      "source": [
        "#import seaborn as sns\n",
        "#sns.pairplot(pd.DataFrame(X[:,0:10]))"
      ]
    },
    {
      "cell_type": "code",
      "execution_count": null,
      "id": "951876e8",
      "metadata": {
        "colab": {
          "base_uri": "https://localhost:8080/",
          "height": 282
        },
        "id": "951876e8",
        "outputId": "d8ad1268-a49c-4f59-9a6a-b9a92beaacf0"
      },
      "outputs": [
        {
          "output_type": "execute_result",
          "data": {
            "text/plain": [
              "<matplotlib.collections.PathCollection at 0x7f26722276d0>"
            ]
          },
          "metadata": {},
          "execution_count": 29
        },
        {
          "output_type": "display_data",
          "data": {
            "text/plain": [
              "<Figure size 432x288 with 1 Axes>"
            ],
            "image/png": "[encoded data removed]"
          },
          "metadata": {
            "needs_background": "light"
          }
        }
      ],
      "source": [
        "plt.scatter(X[:,0], X[:,1], c='white', edgecolors='black', marker='o', s=50)"
      ]
    },
    {
      "cell_type": "code",
      "execution_count": null,
      "id": "6bb932a9",
      "metadata": {
        "colab": {
          "base_uri": "https://localhost:8080/",
          "height": 279
        },
        "id": "6bb932a9",
        "outputId": "e514c49c-2f7c-4cae-b76d-9fa9d33bfd1c"
      },
      "outputs": [
        {
          "output_type": "display_data",
          "data": {
            "text/plain": [
              "<Figure size 432x288 with 1 Axes>"
            ],
            "image/png": "[encoded data removed]"
          },
          "metadata": {
            "needs_background": "light"
          }
        }
      ],
      "source": [
        "plot_clusters(X, y, dim= (0,1), points= estimator.cluster_centers_)\n",
        "              #, ['cluster0', 'cluster1', 'cluster2'], ['centroids'],\n",
        "             #['blue', 'red', 'pink'], ['cyan'])"
      ]
    },
    {
      "cell_type": "markdown",
      "source": [
        "# getting pngs"
      ],
      "metadata": {
        "id": "X3NDTtPs1UP7"
      },
      "id": "X3NDTtPs1UP7"
    },
    {
      "cell_type": "code",
      "source": [
        "from tqdm import tqdm"
      ],
      "metadata": {
        "id": "00PMcrKQ7PCt"
      },
      "id": "00PMcrKQ7PCt",
      "execution_count": null,
      "outputs": []
    },
    {
      "cell_type": "code",
      "source": [
        "#import shutil\n",
        "\n",
        "#shutil.rmtree('chromagrams')"
      ],
      "metadata": {
        "id": "UtoeLQCmBsK5"
      },
      "id": "UtoeLQCmBsK5",
      "execution_count": null,
      "outputs": []
    },
    {
      "cell_type": "code",
      "source": [
        "!mkdir chromagrams"
      ],
      "metadata": {
        "id": "RCvu50nB89sp"
      },
      "id": "RCvu50nB89sp",
      "execution_count": null,
      "outputs": []
    },
    {
      "cell_type": "code",
      "source": [
        "plt.figure(figsize=(30, 10))\n",
        "print(\"Saving the chromagrams as png images. It may take a while...\")\n",
        "for i in tqdm(range(len(chromagrams))):\n",
        "    librosa.display.specshow(chromagrams[i], hop_length=512, cmap='coolwarm')\n",
        "    if not os.path.exists(\"chromagrams/\" + str(i) + \"out.png\"):\n",
        "        plt.savefig(\"chromagrams/\" + str(i) + \"out.png\", bbox_inches='tight', facecolor='white')\n",
        "    plt.clf()"
      ],
      "metadata": {
        "colab": {
          "base_uri": "https://localhost:8080/",
          "height": 69
        },
        "id": "4zn_1mA41WJ8",
        "outputId": "74f3edc6-d6bf-46f1-8377-9427abf1ca39"
      },
      "id": "4zn_1mA41WJ8",
      "execution_count": null,
      "outputs": [
        {
          "output_type": "stream",
          "name": "stdout",
          "text": [
            "Saving the chromagrams as png images. It may take a while...\n"
          ]
        },
        {
          "output_type": "stream",
          "name": "stderr",
          "text": [
            "100%|██████████| 1624/1624 [03:47<00:00,  7.15it/s]\n"
          ]
        },
        {
          "output_type": "display_data",
          "data": {
            "text/plain": [
              "<Figure size 2160x720 with 0 Axes>"
            ]
          },
          "metadata": {}
        }
      ]
    },
    {
      "cell_type": "markdown",
      "source": [
        "# CONTRASTIVE LEARNING"
      ],
      "metadata": {
        "id": "-LGq0m9t3GMo"
      },
      "id": "-LGq0m9t3GMo"
    },
    {
      "cell_type": "code",
      "source": [
        "## Standard libraries\n",
        "'''import os\n",
        "from copy import deepcopy\n",
        "\n",
        "from torch.utils.data import Dataset, DataLoader\n",
        "import tensorflow as tf\n",
        "\n",
        "## Imports for plotting\n",
        "import matplotlib.pyplot as plt\n",
        "plt.set_cmap('cividis')\n",
        "%matplotlib inline\n",
        "from IPython.display import set_matplotlib_formats\n",
        "set_matplotlib_formats('svg', 'pdf') # For export\n",
        "import matplotlib\n",
        "matplotlib.rcParams['lines.linewidth'] = 2.0\n",
        "import seaborn as sns\n",
        "sns.set()\n",
        "\n",
        "## tqdm for loading bars\n",
        "from tqdm.notebook import tqdm\n",
        "\n",
        "## PyTorch\n",
        "import torch\n",
        "import torch.nn as nn\n",
        "import torch.nn.functional as F\n",
        "import torch.utils.data as data\n",
        "import torch.optim as optim\n",
        "\n",
        "## Torchvision\n",
        "import torchvision\n",
        "from torchvision.datasets import STL10\n",
        "from torchvision import transforms\n",
        "\n",
        "# PyTorch Lightning\n",
        "try:\n",
        "    import pytorch_lightning as pl\n",
        "except ModuleNotFoundError: # Google Colab does not have PyTorch Lightning installed by default. Hence, we do it here if necessary\n",
        "    !pip install --quiet pytorch-lightning>=1.4\n",
        "    import pytorch_lightning as pl\n",
        "from pytorch_lightning.callbacks import LearningRateMonitor, ModelCheckpoint\n",
        "\n",
        "# Import tensorboard\n",
        "%load_ext tensorboard'''"
      ],
      "metadata": {
        "colab": {
          "base_uri": "https://localhost:8080/",
          "height": 123
        },
        "id": "hmkXQgDk3J0V",
        "outputId": "607df20a-2c78-4dfc-cd2f-6642b6b8a040"
      },
      "id": "hmkXQgDk3J0V",
      "execution_count": null,
      "outputs": [
        {
          "output_type": "execute_result",
          "data": {
            "text/plain": [
              "\"import os\\nfrom copy import deepcopy\\n\\nfrom torch.utils.data import Dataset, DataLoader\\nimport tensorflow as tf\\n\\n## Imports for plotting\\nimport matplotlib.pyplot as plt\\nplt.set_cmap('cividis')\\n%matplotlib inline\\nfrom IPython.display import set_matplotlib_formats\\nset_matplotlib_formats('svg', 'pdf') # For export\\nimport matplotlib\\nmatplotlib.rcParams['lines.linewidth'] = 2.0\\nimport seaborn as sns\\nsns.set()\\n\\n## tqdm for loading bars\\nfrom tqdm.notebook import tqdm\\n\\n## PyTorch\\nimport torch\\nimport torch.nn as nn\\nimport torch.nn.functional as F\\nimport torch.utils.data as data\\nimport torch.optim as optim\\n\\n## Torchvision\\nimport torchvision\\nfrom torchvision.datasets import STL10\\nfrom torchvision import transforms\\n\\n# PyTorch Lightning\\ntry:\\n    import pytorch_lightning as pl\\nexcept ModuleNotFoundError: # Google Colab does not have PyTorch Lightning installed by default. Hence, we do it here if necessary\\n    !pip install --quiet pytorch-lightning>=1.4\\n    import pytorch_lightning as pl\\nfrom pytorch_lightning.callbacks import LearningRateMonitor, ModelCheckpoint\\n\\n# Import tensorboard\\n%load_ext tensorboard\""
            ],
            "application/vnd.google.colaboratory.intrinsic+json": {
              "type": "string"
            }
          },
          "metadata": {},
          "execution_count": 35
        }
      ]
    },
    {
      "cell_type": "code",
      "source": [
        "!pip install torch"
      ],
      "metadata": {
        "colab": {
          "base_uri": "https://localhost:8080/"
        },
        "id": "RE_5oRbMpxso",
        "outputId": "5b07e42c-fd36-4891-aada-38275f0c092e"
      },
      "id": "RE_5oRbMpxso",
      "execution_count": null,
      "outputs": [
        {
          "output_type": "stream",
          "name": "stdout",
          "text": [
            "Looking in indexes: https://pypi.org/simple, https://us-python.pkg.dev/colab-wheels/public/simple/\n",
            "Requirement already satisfied: torch in /usr/local/lib/python3.8/dist-packages (1.13.1+cu116)\n",
            "Requirement already satisfied: typing-extensions in /usr/local/lib/python3.8/dist-packages (from torch) (4.5.0)\n"
          ]
        }
      ]
    },
    {
      "cell_type": "code",
      "source": [
        "import os\n",
        "\n",
        "## tqdm for loading bars\n",
        "from tqdm.notebook import tqdm\n",
        "\n",
        "import tensorflow as tf\n",
        "\n",
        "## PyTorch\n",
        "import torch\n",
        "import torch.nn as nn\n",
        "import torch.utils.data as data\n",
        "import torch.optim as optim\n",
        "import torch.nn.functional as F\n",
        "\n",
        "from torch.utils.data import Dataset, DataLoader\n",
        "\n",
        "## Torchvision\n",
        "import torchvision\n",
        "from torchvision import transforms"
      ],
      "metadata": {
        "id": "18WYEIeOuUxx"
      },
      "id": "18WYEIeOuUxx",
      "execution_count": null,
      "outputs": []
    },
    {
      "cell_type": "code",
      "source": [
        "# Path to the folder where the datasets are/should be downloaded (e.g. CIFAR10)\n",
        "DATASET_PATH = \"chromagrams/\"\n",
        "# Path to the folder where the pretrained models are saved\n",
        "CHECKPOINT_PATH = \"saved_models\""
      ],
      "metadata": {
        "id": "LBRwRw2p3fJY"
      },
      "id": "LBRwRw2p3fJY",
      "execution_count": null,
      "outputs": []
    },
    {
      "cell_type": "code",
      "source": [
        "# Ensure that all operations are deterministic on GPU (if used) for reproducibility\n",
        "torch.backends.cudnn.deterministic = True\n",
        "torch.backends.cudnn.benchmark = False\n",
        "\n",
        "#device = torch.device(\"cuda:0\") if torch.cuda.is_available() else torch.device(\"cpu\")\n",
        "#print(\"Device:\", device)"
      ],
      "metadata": {
        "id": "G4cFnvGz34hh"
      },
      "id": "G4cFnvGz34hh",
      "execution_count": null,
      "outputs": []
    },
    {
      "cell_type": "code",
      "source": [
        "class MyDataset(Dataset):\n",
        "    def __init__(self, data, transform=None):\n",
        "        self.data = data\n",
        "        self.transform = transform\n",
        "        \n",
        "    def __getitem__(self, index):\n",
        "        x = self.data[index]\n",
        "        #x[:,0:460] = 1.0\n",
        "        #x = np.reshape(x, x.shape + (1,))\n",
        "        #print(x.shape)\n",
        "        if self.transform:\n",
        "            x = self.transform(x)\n",
        "        #print(x.shape)    \n",
        "        return x\n",
        "    \n",
        "    def __len__(self):\n",
        "        return len(self.data)"
      ],
      "metadata": {
        "id": "56oWaIa4lqtp"
      },
      "id": "56oWaIa4lqtp",
      "execution_count": null,
      "outputs": []
    },
    {
      "cell_type": "markdown",
      "source": [
        "data augmentation"
      ],
      "metadata": {
        "id": "2kPGxDRJocfb"
      },
      "id": "2kPGxDRJocfb"
    },
    {
      "cell_type": "code",
      "source": [
        "transform1 = transforms.Compose([transforms.ToTensor(), transforms.RandomErasing(p=1, scale=(0.02, 0.1), ratio=(0.1, 0.3), value=1, inplace=False)])\n",
        "augmented_dataset1 = MyDataset(np.copy(chromagrams), transform1) #, transform\n",
        "train_dataloader1 = torch.utils.data.DataLoader(augmented_dataset1, batch_size=1, shuffle = False)\n",
        "\n",
        "transform2 = transforms.Compose([transforms.ToTensor(), torchvision.transforms.RandomAffine(degrees = 0, translate = (0.1, 0))])\n",
        "augmented_dataset2 = MyDataset(np.copy(chromagrams), transform2)\n",
        "train_dataloader2 = torch.utils.data.DataLoader(augmented_dataset2, batch_size=1, shuffle = False)\n",
        "\n",
        "'''for index, img in enumerate(train_dataloader1):\n",
        "    print(img.shape)\n",
        "    plt.imshow(chromagrams[index], aspect = 'auto', cmap = \"gray\")\n",
        "    plt.show()\n",
        "    plt.imshow(img[0].permute(1, 2, 0)[:, :, 0], aspect = 'auto', cmap = \"gray\")\n",
        "    plt.show()'''"
      ],
      "metadata": {
        "colab": {
          "base_uri": "https://localhost:8080/",
          "height": 53
        },
        "id": "n8UYi0_tlV4y",
        "outputId": "bd4a3cce-3648-47e5-ed40-ee77d59c1851"
      },
      "id": "n8UYi0_tlV4y",
      "execution_count": null,
      "outputs": [
        {
          "output_type": "execute_result",
          "data": {
            "text/plain": [
              "'for index, img in enumerate(train_dataloader1):\\n    print(img.shape)\\n    plt.imshow(chromagrams[index], aspect = \\'auto\\', cmap = \"gray\")\\n    plt.show()\\n    plt.imshow(img[0].permute(1, 2, 0)[:, :, 0], aspect = \\'auto\\', cmap = \"gray\")\\n    plt.show()'"
            ],
            "application/vnd.google.colaboratory.intrinsic+json": {
              "type": "string"
            }
          },
          "metadata": {},
          "execution_count": 41
        }
      ]
    },
    {
      "cell_type": "markdown",
      "source": [
        "shape [batch_size, 1, 12, 474]"
      ],
      "metadata": {
        "id": "rMpx-DmCt7pN"
      },
      "id": "rMpx-DmCt7pN"
    },
    {
      "cell_type": "markdown",
      "source": [
        "for now we tried with these two tranformations, but we're keeping them separate.\n",
        "A good idea could be to apply both, and maybe even more, to both augmented datasets, since they're random.\n",
        "\n",
        "The first transform is random erasing, which adds a white patch.\n",
        "\n",
        "The second transform is randomaffine, which we made translate the image."
      ],
      "metadata": {
        "id": "pC-8gDOLoE2e"
      },
      "id": "pC-8gDOLoE2e"
    },
    {
      "cell_type": "code",
      "source": [
        "device = torch.device(\"cuda\" if torch.cuda.is_available() else \"cpu\")\n",
        "print(device)"
      ],
      "metadata": {
        "colab": {
          "base_uri": "https://localhost:8080/"
        },
        "id": "flaUkGc385dt",
        "outputId": "ee1da13e-5701-4325-ca8b-d639ff5ad785"
      },
      "id": "flaUkGc385dt",
      "execution_count": null,
      "outputs": [
        {
          "output_type": "stream",
          "name": "stdout",
          "text": [
            "cuda\n"
          ]
        }
      ]
    },
    {
      "cell_type": "code",
      "source": [
        "# Create TensorFlow dataset\n",
        "BATCH_SIZE = 64\n",
        "\n",
        "transform = transforms.Compose([#transforms.ToTensor(),\n",
        "                                #transforms.Lambda(lambda x: torch.cat([x, x, x], 0)),\n",
        "                                transforms.Lambda(lambda x: x.repeat(3, 1, 1)),\n",
        "                                transforms.RandomAffine(degrees=0, translate=(0.1,0)),\n",
        "                                transforms.RandomErasing(p=0.4, scale=(0.02, 0.03), ratio=(0.2,0.3), value=0.6, inplace=False),  \n",
        "                                transforms.RandomErasing(p=0.4, scale=(0.02, 0.1), ratio=(0.02,0.05), value=0.9, inplace=False)\n",
        "                               ])\n",
        "\n",
        "train_dataset = MyDataset(np.copy(chromagrams))  #WITHOUT AUGMENTATIONS\n",
        "\n",
        "train_dataloader = torch.utils.data.DataLoader(train_dataset, batch_size=BATCH_SIZE, shuffle=True, drop_last=True) #drop last false?\n",
        "\n",
        "'''for index, img in enumerate(train_dataloader):\n",
        "    print(img.shape)\n",
        "    plt.imshow(img[0].permute(1, 2, 0)[:, :, 0], aspect = 'auto')\n",
        "    plt.show()'''"
      ],
      "metadata": {
        "id": "uXtyycGAp8py",
        "colab": {
          "base_uri": "https://localhost:8080/",
          "height": 36
        },
        "outputId": "4fa9ae76-ad62-48a6-eb1b-fa625d9a09c2"
      },
      "id": "uXtyycGAp8py",
      "execution_count": null,
      "outputs": [
        {
          "output_type": "execute_result",
          "data": {
            "text/plain": [
              "\"for index, img in enumerate(train_dataloader):\\n    print(img.shape)\\n    plt.imshow(img[0].permute(1, 2, 0)[:, :, 0], aspect = 'auto')\\n    plt.show()\""
            ],
            "application/vnd.google.colaboratory.intrinsic+json": {
              "type": "string"
            }
          },
          "metadata": {},
          "execution_count": 43
        }
      ]
    },
    {
      "cell_type": "code",
      "source": [
        "print(type(train_dataset[0]))\n",
        "\n",
        "for index, img in enumerate(train_dataloader):\n",
        "    torch.reshape(img[0], (1, img[0].shape[0], img[0].shape[1]))\n",
        "    print(img[0].shape)\n",
        "    print(type(img[0]))\n",
        "    img = transform(img[0])\n",
        "    print(img.shape)\n",
        "    print(type(train_dataset[0]))"
      ],
      "metadata": {
        "colab": {
          "base_uri": "https://localhost:8080/"
        },
        "id": "ajH8hGQ6F4K-",
        "outputId": "5d88f0d0-0463-4310-ef90-0ac2384c146d"
      },
      "id": "ajH8hGQ6F4K-",
      "execution_count": null,
      "outputs": [
        {
          "output_type": "stream",
          "name": "stdout",
          "text": [
            "<class 'numpy.ndarray'>\n",
            "torch.Size([12, 474])\n",
            "<class 'torch.Tensor'>\n",
            "torch.Size([3, 12, 474])\n",
            "<class 'numpy.ndarray'>\n",
            "torch.Size([12, 474])\n",
            "<class 'torch.Tensor'>\n",
            "torch.Size([3, 12, 474])\n",
            "<class 'numpy.ndarray'>\n",
            "torch.Size([12, 474])\n",
            "<class 'torch.Tensor'>\n",
            "torch.Size([3, 12, 474])\n",
            "<class 'numpy.ndarray'>\n",
            "torch.Size([12, 474])\n",
            "<class 'torch.Tensor'>\n",
            "torch.Size([3, 12, 474])\n",
            "<class 'numpy.ndarray'>\n",
            "torch.Size([12, 474])\n",
            "<class 'torch.Tensor'>\n",
            "torch.Size([3, 12, 474])\n",
            "<class 'numpy.ndarray'>\n",
            "torch.Size([12, 474])\n",
            "<class 'torch.Tensor'>\n",
            "torch.Size([3, 12, 474])\n",
            "<class 'numpy.ndarray'>\n",
            "torch.Size([12, 474])\n",
            "<class 'torch.Tensor'>\n",
            "torch.Size([3, 12, 474])\n",
            "<class 'numpy.ndarray'>\n",
            "torch.Size([12, 474])\n",
            "<class 'torch.Tensor'>\n",
            "torch.Size([3, 12, 474])\n",
            "<class 'numpy.ndarray'>\n",
            "torch.Size([12, 474])\n",
            "<class 'torch.Tensor'>\n",
            "torch.Size([3, 12, 474])\n",
            "<class 'numpy.ndarray'>\n",
            "torch.Size([12, 474])\n",
            "<class 'torch.Tensor'>\n",
            "torch.Size([3, 12, 474])\n",
            "<class 'numpy.ndarray'>\n",
            "torch.Size([12, 474])\n",
            "<class 'torch.Tensor'>\n",
            "torch.Size([3, 12, 474])\n",
            "<class 'numpy.ndarray'>\n",
            "torch.Size([12, 474])\n",
            "<class 'torch.Tensor'>\n",
            "torch.Size([3, 12, 474])\n",
            "<class 'numpy.ndarray'>\n",
            "torch.Size([12, 474])\n",
            "<class 'torch.Tensor'>\n",
            "torch.Size([3, 12, 474])\n",
            "<class 'numpy.ndarray'>\n",
            "torch.Size([12, 474])\n",
            "<class 'torch.Tensor'>\n",
            "torch.Size([3, 12, 474])\n",
            "<class 'numpy.ndarray'>\n",
            "torch.Size([12, 474])\n",
            "<class 'torch.Tensor'>\n",
            "torch.Size([3, 12, 474])\n",
            "<class 'numpy.ndarray'>\n",
            "torch.Size([12, 474])\n",
            "<class 'torch.Tensor'>\n",
            "torch.Size([3, 12, 474])\n",
            "<class 'numpy.ndarray'>\n",
            "torch.Size([12, 474])\n",
            "<class 'torch.Tensor'>\n",
            "torch.Size([3, 12, 474])\n",
            "<class 'numpy.ndarray'>\n",
            "torch.Size([12, 474])\n",
            "<class 'torch.Tensor'>\n",
            "torch.Size([3, 12, 474])\n",
            "<class 'numpy.ndarray'>\n",
            "torch.Size([12, 474])\n",
            "<class 'torch.Tensor'>\n",
            "torch.Size([3, 12, 474])\n",
            "<class 'numpy.ndarray'>\n",
            "torch.Size([12, 474])\n",
            "<class 'torch.Tensor'>\n",
            "torch.Size([3, 12, 474])\n",
            "<class 'numpy.ndarray'>\n",
            "torch.Size([12, 474])\n",
            "<class 'torch.Tensor'>\n",
            "torch.Size([3, 12, 474])\n",
            "<class 'numpy.ndarray'>\n",
            "torch.Size([12, 474])\n",
            "<class 'torch.Tensor'>\n",
            "torch.Size([3, 12, 474])\n",
            "<class 'numpy.ndarray'>\n",
            "torch.Size([12, 474])\n",
            "<class 'torch.Tensor'>\n",
            "torch.Size([3, 12, 474])\n",
            "<class 'numpy.ndarray'>\n",
            "torch.Size([12, 474])\n",
            "<class 'torch.Tensor'>\n",
            "torch.Size([3, 12, 474])\n",
            "<class 'numpy.ndarray'>\n",
            "torch.Size([12, 474])\n",
            "<class 'torch.Tensor'>\n",
            "torch.Size([3, 12, 474])\n",
            "<class 'numpy.ndarray'>\n"
          ]
        }
      ]
    },
    {
      "cell_type": "markdown",
      "source": [
        "creating the model"
      ],
      "metadata": {
        "id": "cXr1LyAHtbnj"
      },
      "id": "cXr1LyAHtbnj"
    },
    {
      "cell_type": "code",
      "source": [
        "#official resnet implementation, with number of channels turned to 1 instead of 3 in conv1\n",
        "class ResNet(nn.Module):\n",
        "\n",
        "    def __init__(self, block, layers, num_classes=1000):\n",
        "        self.inplanes = 64\n",
        "        super(ResNet, self).__init__()\n",
        "        self.conv1 = nn.Conv2d(1, 64, kernel_size=7, stride=2, padding=3,\n",
        "                               bias=False)\n",
        "        self.bn1 = nn.BatchNorm2d(64)\n",
        "        self.relu = nn.ReLU(inplace=True)\n",
        "        self.maxpool = nn.MaxPool2d(kernel_size=3, stride=2, padding=1)\n",
        "        self.layer1 = self._make_layer(block, 64, layers[0])\n",
        "        self.layer2 = self._make_layer(block, 128, layers[1], stride=2)\n",
        "        self.layer3 = self._make_layer(block, 256, layers[2], stride=2)\n",
        "        self.layer4 = self._make_layer(block, 512, layers[3], stride=2)\n",
        "        self.avgpool = nn.AvgPool2d(7, stride=1)\n",
        "        self.fc = nn.Linear(512 * block.expansion, num_classes)\n",
        "\n",
        "\n",
        "class SimCLRModel(nn.Module):\n",
        "    def __init__(self):\n",
        "      super(SimCLRModel, self).__init__()\n",
        "      self.resnet = torchvision.models.resnet50(weights=None)  #maybe we could use some already existing weights\n",
        "      \n",
        "      #self.resnet = ResNet(models.resnet.Bottleneck, [3, 8, 36, 3], pretrained = False)    #if we want to use a 1d tensor, but it might be easier to just paste it three times onto a 3d tensor\n",
        "      #self.avgpool = torch.nn.AvgPool2d()   #it flattens one dimension? if that's it we already have a 2d array\n",
        "      self.fc1 = nn.Linear(1000, 256)   #not sure about 1000\n",
        "      self.fc2 = nn.Linear(256, 128)\n",
        "      self.fc3 = nn.Linear(128, 50)\n",
        "      self.relu = nn.ReLU()\n",
        "\n",
        "    def forward(self, x):\n",
        "      x = self.resnet(x)\n",
        "      x = self.fc1(x)\n",
        "      x = self.relu(x)\n",
        "      x = self.fc2(x)\n",
        "      x = self.relu(x)\n",
        "      x = self.fc3(x)\n",
        "      return x"
      ],
      "metadata": {
        "id": "dFgyDCiVta_M"
      },
      "id": "dFgyDCiVta_M",
      "execution_count": null,
      "outputs": []
    },
    {
      "cell_type": "code",
      "source": [
        "model = SimCLRModel()\n",
        "\n",
        "model = model.to(device)"
      ],
      "metadata": {
        "id": "s4hf8T1wGkrO"
      },
      "id": "s4hf8T1wGkrO",
      "execution_count": null,
      "outputs": []
    },
    {
      "cell_type": "code",
      "source": [
        "from torchvision import models\n",
        "from torchsummary import summary\n",
        "\n",
        "summary(model, (3, 12, 474))"
      ],
      "metadata": {
        "colab": {
          "base_uri": "https://localhost:8080/"
        },
        "id": "oK7yHPdIQHS_",
        "outputId": "6c4b1431-9b61-4025-b0a2-7e8ec486c30b"
      },
      "id": "oK7yHPdIQHS_",
      "execution_count": null,
      "outputs": [
        {
          "output_type": "stream",
          "name": "stdout",
          "text": [
            "----------------------------------------------------------------\n",
            "        Layer (type)               Output Shape         Param #\n",
            "================================================================\n",
            "            Conv2d-1           [-1, 64, 6, 237]           9,408\n",
            "       BatchNorm2d-2           [-1, 64, 6, 237]             128\n",
            "              ReLU-3           [-1, 64, 6, 237]               0\n",
            "         MaxPool2d-4           [-1, 64, 3, 119]               0\n",
            "            Conv2d-5           [-1, 64, 3, 119]           4,096\n",
            "       BatchNorm2d-6           [-1, 64, 3, 119]             128\n",
            "              ReLU-7           [-1, 64, 3, 119]               0\n",
            "            Conv2d-8           [-1, 64, 3, 119]          36,864\n",
            "       BatchNorm2d-9           [-1, 64, 3, 119]             128\n",
            "             ReLU-10           [-1, 64, 3, 119]               0\n",
            "           Conv2d-11          [-1, 256, 3, 119]          16,384\n",
            "      BatchNorm2d-12          [-1, 256, 3, 119]             512\n",
            "           Conv2d-13          [-1, 256, 3, 119]          16,384\n",
            "      BatchNorm2d-14          [-1, 256, 3, 119]             512\n",
            "             ReLU-15          [-1, 256, 3, 119]               0\n",
            "       Bottleneck-16          [-1, 256, 3, 119]               0\n",
            "           Conv2d-17           [-1, 64, 3, 119]          16,384\n",
            "      BatchNorm2d-18           [-1, 64, 3, 119]             128\n",
            "             ReLU-19           [-1, 64, 3, 119]               0\n",
            "           Conv2d-20           [-1, 64, 3, 119]          36,864\n",
            "      BatchNorm2d-21           [-1, 64, 3, 119]             128\n",
            "             ReLU-22           [-1, 64, 3, 119]               0\n",
            "           Conv2d-23          [-1, 256, 3, 119]          16,384\n",
            "      BatchNorm2d-24          [-1, 256, 3, 119]             512\n",
            "             ReLU-25          [-1, 256, 3, 119]               0\n",
            "       Bottleneck-26          [-1, 256, 3, 119]               0\n",
            "           Conv2d-27           [-1, 64, 3, 119]          16,384\n",
            "      BatchNorm2d-28           [-1, 64, 3, 119]             128\n",
            "             ReLU-29           [-1, 64, 3, 119]               0\n",
            "           Conv2d-30           [-1, 64, 3, 119]          36,864\n",
            "      BatchNorm2d-31           [-1, 64, 3, 119]             128\n",
            "             ReLU-32           [-1, 64, 3, 119]               0\n",
            "           Conv2d-33          [-1, 256, 3, 119]          16,384\n",
            "      BatchNorm2d-34          [-1, 256, 3, 119]             512\n",
            "             ReLU-35          [-1, 256, 3, 119]               0\n",
            "       Bottleneck-36          [-1, 256, 3, 119]               0\n",
            "           Conv2d-37          [-1, 128, 3, 119]          32,768\n",
            "      BatchNorm2d-38          [-1, 128, 3, 119]             256\n",
            "             ReLU-39          [-1, 128, 3, 119]               0\n",
            "           Conv2d-40           [-1, 128, 2, 60]         147,456\n",
            "      BatchNorm2d-41           [-1, 128, 2, 60]             256\n",
            "             ReLU-42           [-1, 128, 2, 60]               0\n",
            "           Conv2d-43           [-1, 512, 2, 60]          65,536\n",
            "      BatchNorm2d-44           [-1, 512, 2, 60]           1,024\n",
            "           Conv2d-45           [-1, 512, 2, 60]         131,072\n",
            "      BatchNorm2d-46           [-1, 512, 2, 60]           1,024\n",
            "             ReLU-47           [-1, 512, 2, 60]               0\n",
            "       Bottleneck-48           [-1, 512, 2, 60]               0\n",
            "           Conv2d-49           [-1, 128, 2, 60]          65,536\n",
            "      BatchNorm2d-50           [-1, 128, 2, 60]             256\n",
            "             ReLU-51           [-1, 128, 2, 60]               0\n",
            "           Conv2d-52           [-1, 128, 2, 60]         147,456\n",
            "      BatchNorm2d-53           [-1, 128, 2, 60]             256\n",
            "             ReLU-54           [-1, 128, 2, 60]               0\n",
            "           Conv2d-55           [-1, 512, 2, 60]          65,536\n",
            "      BatchNorm2d-56           [-1, 512, 2, 60]           1,024\n",
            "             ReLU-57           [-1, 512, 2, 60]               0\n",
            "       Bottleneck-58           [-1, 512, 2, 60]               0\n",
            "           Conv2d-59           [-1, 128, 2, 60]          65,536\n",
            "      BatchNorm2d-60           [-1, 128, 2, 60]             256\n",
            "             ReLU-61           [-1, 128, 2, 60]               0\n",
            "           Conv2d-62           [-1, 128, 2, 60]         147,456\n",
            "      BatchNorm2d-63           [-1, 128, 2, 60]             256\n",
            "             ReLU-64           [-1, 128, 2, 60]               0\n",
            "           Conv2d-65           [-1, 512, 2, 60]          65,536\n",
            "      BatchNorm2d-66           [-1, 512, 2, 60]           1,024\n",
            "             ReLU-67           [-1, 512, 2, 60]               0\n",
            "       Bottleneck-68           [-1, 512, 2, 60]               0\n",
            "           Conv2d-69           [-1, 128, 2, 60]          65,536\n",
            "      BatchNorm2d-70           [-1, 128, 2, 60]             256\n",
            "             ReLU-71           [-1, 128, 2, 60]               0\n",
            "           Conv2d-72           [-1, 128, 2, 60]         147,456\n",
            "      BatchNorm2d-73           [-1, 128, 2, 60]             256\n",
            "             ReLU-74           [-1, 128, 2, 60]               0\n",
            "           Conv2d-75           [-1, 512, 2, 60]          65,536\n",
            "      BatchNorm2d-76           [-1, 512, 2, 60]           1,024\n",
            "             ReLU-77           [-1, 512, 2, 60]               0\n",
            "       Bottleneck-78           [-1, 512, 2, 60]               0\n",
            "           Conv2d-79           [-1, 256, 2, 60]         131,072\n",
            "      BatchNorm2d-80           [-1, 256, 2, 60]             512\n",
            "             ReLU-81           [-1, 256, 2, 60]               0\n",
            "           Conv2d-82           [-1, 256, 1, 30]         589,824\n",
            "      BatchNorm2d-83           [-1, 256, 1, 30]             512\n",
            "             ReLU-84           [-1, 256, 1, 30]               0\n",
            "           Conv2d-85          [-1, 1024, 1, 30]         262,144\n",
            "      BatchNorm2d-86          [-1, 1024, 1, 30]           2,048\n",
            "           Conv2d-87          [-1, 1024, 1, 30]         524,288\n",
            "      BatchNorm2d-88          [-1, 1024, 1, 30]           2,048\n",
            "             ReLU-89          [-1, 1024, 1, 30]               0\n",
            "       Bottleneck-90          [-1, 1024, 1, 30]               0\n",
            "           Conv2d-91           [-1, 256, 1, 30]         262,144\n",
            "      BatchNorm2d-92           [-1, 256, 1, 30]             512\n",
            "             ReLU-93           [-1, 256, 1, 30]               0\n",
            "           Conv2d-94           [-1, 256, 1, 30]         589,824\n",
            "      BatchNorm2d-95           [-1, 256, 1, 30]             512\n",
            "             ReLU-96           [-1, 256, 1, 30]               0\n",
            "           Conv2d-97          [-1, 1024, 1, 30]         262,144\n",
            "      BatchNorm2d-98          [-1, 1024, 1, 30]           2,048\n",
            "             ReLU-99          [-1, 1024, 1, 30]               0\n",
            "      Bottleneck-100          [-1, 1024, 1, 30]               0\n",
            "          Conv2d-101           [-1, 256, 1, 30]         262,144\n",
            "     BatchNorm2d-102           [-1, 256, 1, 30]             512\n",
            "            ReLU-103           [-1, 256, 1, 30]               0\n",
            "          Conv2d-104           [-1, 256, 1, 30]         589,824\n",
            "     BatchNorm2d-105           [-1, 256, 1, 30]             512\n",
            "            ReLU-106           [-1, 256, 1, 30]               0\n",
            "          Conv2d-107          [-1, 1024, 1, 30]         262,144\n",
            "     BatchNorm2d-108          [-1, 1024, 1, 30]           2,048\n",
            "            ReLU-109          [-1, 1024, 1, 30]               0\n",
            "      Bottleneck-110          [-1, 1024, 1, 30]               0\n",
            "          Conv2d-111           [-1, 256, 1, 30]         262,144\n",
            "     BatchNorm2d-112           [-1, 256, 1, 30]             512\n",
            "            ReLU-113           [-1, 256, 1, 30]               0\n",
            "          Conv2d-114           [-1, 256, 1, 30]         589,824\n",
            "     BatchNorm2d-115           [-1, 256, 1, 30]             512\n",
            "            ReLU-116           [-1, 256, 1, 30]               0\n",
            "          Conv2d-117          [-1, 1024, 1, 30]         262,144\n",
            "     BatchNorm2d-118          [-1, 1024, 1, 30]           2,048\n",
            "            ReLU-119          [-1, 1024, 1, 30]               0\n",
            "      Bottleneck-120          [-1, 1024, 1, 30]               0\n",
            "          Conv2d-121           [-1, 256, 1, 30]         262,144\n",
            "     BatchNorm2d-122           [-1, 256, 1, 30]             512\n",
            "            ReLU-123           [-1, 256, 1, 30]               0\n",
            "          Conv2d-124           [-1, 256, 1, 30]         589,824\n",
            "     BatchNorm2d-125           [-1, 256, 1, 30]             512\n",
            "            ReLU-126           [-1, 256, 1, 30]               0\n",
            "          Conv2d-127          [-1, 1024, 1, 30]         262,144\n",
            "     BatchNorm2d-128          [-1, 1024, 1, 30]           2,048\n",
            "            ReLU-129          [-1, 1024, 1, 30]               0\n",
            "      Bottleneck-130          [-1, 1024, 1, 30]               0\n",
            "          Conv2d-131           [-1, 256, 1, 30]         262,144\n",
            "     BatchNorm2d-132           [-1, 256, 1, 30]             512\n",
            "            ReLU-133           [-1, 256, 1, 30]               0\n",
            "          Conv2d-134           [-1, 256, 1, 30]         589,824\n",
            "     BatchNorm2d-135           [-1, 256, 1, 30]             512\n",
            "            ReLU-136           [-1, 256, 1, 30]               0\n",
            "          Conv2d-137          [-1, 1024, 1, 30]         262,144\n",
            "     BatchNorm2d-138          [-1, 1024, 1, 30]           2,048\n",
            "            ReLU-139          [-1, 1024, 1, 30]               0\n",
            "      Bottleneck-140          [-1, 1024, 1, 30]               0\n",
            "          Conv2d-141           [-1, 512, 1, 30]         524,288\n",
            "     BatchNorm2d-142           [-1, 512, 1, 30]           1,024\n",
            "            ReLU-143           [-1, 512, 1, 30]               0\n",
            "          Conv2d-144           [-1, 512, 1, 15]       2,359,296\n",
            "     BatchNorm2d-145           [-1, 512, 1, 15]           1,024\n",
            "            ReLU-146           [-1, 512, 1, 15]               0\n",
            "          Conv2d-147          [-1, 2048, 1, 15]       1,048,576\n",
            "     BatchNorm2d-148          [-1, 2048, 1, 15]           4,096\n",
            "          Conv2d-149          [-1, 2048, 1, 15]       2,097,152\n",
            "     BatchNorm2d-150          [-1, 2048, 1, 15]           4,096\n",
            "            ReLU-151          [-1, 2048, 1, 15]               0\n",
            "      Bottleneck-152          [-1, 2048, 1, 15]               0\n",
            "          Conv2d-153           [-1, 512, 1, 15]       1,048,576\n",
            "     BatchNorm2d-154           [-1, 512, 1, 15]           1,024\n",
            "            ReLU-155           [-1, 512, 1, 15]               0\n",
            "          Conv2d-156           [-1, 512, 1, 15]       2,359,296\n",
            "     BatchNorm2d-157           [-1, 512, 1, 15]           1,024\n",
            "            ReLU-158           [-1, 512, 1, 15]               0\n",
            "          Conv2d-159          [-1, 2048, 1, 15]       1,048,576\n",
            "     BatchNorm2d-160          [-1, 2048, 1, 15]           4,096\n",
            "            ReLU-161          [-1, 2048, 1, 15]               0\n",
            "      Bottleneck-162          [-1, 2048, 1, 15]               0\n",
            "          Conv2d-163           [-1, 512, 1, 15]       1,048,576\n",
            "     BatchNorm2d-164           [-1, 512, 1, 15]           1,024\n",
            "            ReLU-165           [-1, 512, 1, 15]               0\n",
            "          Conv2d-166           [-1, 512, 1, 15]       2,359,296\n",
            "     BatchNorm2d-167           [-1, 512, 1, 15]           1,024\n",
            "            ReLU-168           [-1, 512, 1, 15]               0\n",
            "          Conv2d-169          [-1, 2048, 1, 15]       1,048,576\n",
            "     BatchNorm2d-170          [-1, 2048, 1, 15]           4,096\n",
            "            ReLU-171          [-1, 2048, 1, 15]               0\n",
            "      Bottleneck-172          [-1, 2048, 1, 15]               0\n",
            "AdaptiveAvgPool2d-173           [-1, 2048, 1, 1]               0\n",
            "          Linear-174                 [-1, 1000]       2,049,000\n",
            "          ResNet-175                 [-1, 1000]               0\n",
            "          Linear-176                  [-1, 256]         256,256\n",
            "            ReLU-177                  [-1, 256]               0\n",
            "          Linear-178                  [-1, 128]          32,896\n",
            "            ReLU-179                  [-1, 128]               0\n",
            "          Linear-180                   [-1, 50]           6,450\n",
            "================================================================\n",
            "Total params: 25,852,634\n",
            "Trainable params: 25,852,634\n",
            "Non-trainable params: 0\n",
            "----------------------------------------------------------------\n",
            "Input size (MB): 0.07\n",
            "Forward/backward pass size (MB): 40.38\n",
            "Params size (MB): 98.62\n",
            "Estimated Total Size (MB): 139.07\n",
            "----------------------------------------------------------------\n"
          ]
        }
      ]
    },
    {
      "cell_type": "markdown",
      "source": [
        "loss function"
      ],
      "metadata": {
        "id": "69WXg_Wn9A9B"
      },
      "id": "69WXg_Wn9A9B"
    },
    {
      "cell_type": "code",
      "source": [
        "negative_mask = np.ones((BATCH_SIZE, 2 * BATCH_SIZE), dtype=bool)\n",
        "for i in range(BATCH_SIZE):\n",
        "    negative_mask[i, i] = 0\n",
        "    negative_mask[i, i + BATCH_SIZE] = 0\n",
        "negative_mask = torch.from_numpy(negative_mask).to(device)\n",
        "\n",
        "def loss_fn(xis, xjs, model, optimizer, criterion, temperature):\n",
        "  optimizer.zero_grad()\n",
        "\n",
        "  xis = xis.to(device)\n",
        "  xjs = xjs.to(device)\n",
        "\n",
        "  xis = xis.float()\n",
        "  xjs = xjs.float()\n",
        "  #print(xis.shape)\n",
        "  zis = model(xis)\n",
        "  zjs = model(xjs)\n",
        "\n",
        "  zis = torch.nn.functional.normalize(zis, p=2, dim=1)\n",
        "  zjs = torch.nn.functional.normalize(zjs, p=2, dim=1)\n",
        "\n",
        "  #tf.matmul(tf.expand_dims(x, 1), tf.expand_dims(y, 2))\n",
        "  #l_pos = sim_func_dim1(zis, zjs)\n",
        "  l_pos = torch.matmul(torch.unsqueeze(zis, 1), torch.unsqueeze(zis, 2))\n",
        "  l_pos = torch.reshape(l_pos, (BATCH_SIZE, 1))\n",
        "  l_pos = l_pos / temperature\n",
        "\n",
        "  negatives = torch.cat([zjs, zis], axis=0)\n",
        "\n",
        "  loss = 0\n",
        "\n",
        "  for positives in [zis, zjs]:\n",
        "    \n",
        "      cosine_sim_2d = torch.nn.CosineSimilarity(dim=2, eps=1e-08)\n",
        "      l_neg = cosine_sim_2d(torch.unsqueeze(positives, 1), torch.unsqueeze(negatives, 0))\n",
        "\n",
        "      labels = torch.zeros(BATCH_SIZE, dtype=torch.int32).type(torch.LongTensor).to(device)\n",
        "\n",
        "      l_neg = torch.masked_select(l_neg, negative_mask)\n",
        "      l_neg = torch.reshape(l_neg, (BATCH_SIZE, -1))\n",
        "      l_neg = l_neg / temperature\n",
        "\n",
        "      logits = torch.cat([l_pos, l_neg], axis=1)\n",
        "      loss += criterion(input=logits, target=labels)\n",
        "\n",
        "  loss = loss / (2 * BATCH_SIZE)\n",
        "\n",
        "  loss.backward()\n",
        "  optimizer.step()\n",
        "\n",
        "  return loss"
      ],
      "metadata": {
        "id": "mVqH7d17o8jJ"
      },
      "id": "mVqH7d17o8jJ",
      "execution_count": null,
      "outputs": []
    },
    {
      "cell_type": "markdown",
      "source": [
        "training function"
      ],
      "metadata": {
        "id": "rQSPjIzU99LE"
      },
      "id": "rQSPjIzU99LE"
    },
    {
      "cell_type": "code",
      "source": [
        "def train_simclr(model, dataloader, optimizer, criterion,\n",
        "                 temperature=0.1, epochs=3):\n",
        "    step_wise_loss = []\n",
        "    epoch_wise_loss = []\n",
        "\n",
        "    for epoch in tqdm(range(epochs)):\n",
        "        for image_batch in dataloader:\n",
        "            a = transforms.Lambda(lambda x: torch.stack([transform(x_) for x_ in x]))(image_batch)\n",
        "            b = transforms.Lambda(lambda x: torch.stack([transform(x_) for x_ in x]))(image_batch)\n",
        "\n",
        "            loss = loss_fn(a, b, model, optimizer, criterion, temperature).item()\n",
        "            step_wise_loss.append(loss)\n",
        "\n",
        "        epoch_wise_loss.append(np.mean(step_wise_loss))    #does the mean make sense. find out in the next episode\n",
        "        \n",
        "        print(\"epoch: {} loss: {:.3f}\".format(epoch + 1, np.mean(step_wise_loss)))\n",
        "\n",
        "    return epoch_wise_loss, model"
      ],
      "metadata": {
        "id": "HmwUmjfY7CJ5"
      },
      "id": "HmwUmjfY7CJ5",
      "execution_count": null,
      "outputs": []
    },
    {
      "cell_type": "markdown",
      "source": [
        "TODO\n",
        "\n",
        "run it on the model"
      ],
      "metadata": {
        "id": "126sVtoR9Fp6"
      },
      "id": "126sVtoR9Fp6"
    },
    {
      "cell_type": "code",
      "source": [
        "LEARNING_RATE = 1e-3\n",
        "\n",
        "criterion = torch.nn.CrossEntropyLoss()\n",
        "#decay_steps = 1000\n",
        "\n",
        "optimizer = optim.Adam(model.parameters(), lr=LEARNING_RATE)\n",
        "\n",
        "lr_scheduler = optim.lr_scheduler.CosineAnnealingLR(optimizer, T_max=100, eta_min=LEARNING_RATE/50) #t_max = max_epochs\n",
        "\n",
        "epoch_wise_loss, model_trained  = train_simclr(model, train_dataloader, optimizer, criterion,\n",
        "                 temperature=0.1, epochs=10)\n",
        "\n",
        "with plt.xkcd():\n",
        "    plt.plot(epoch_wise_loss)\n",
        "    plt.title(\"tau = 0.1, h1 = 256, h2 = 128, h3 = 50\")\n",
        "    plt.show()"
      ],
      "metadata": {
        "colab": {
          "base_uri": "https://localhost:8080/",
          "height": 1000,
          "referenced_widgets": [
            "a386109345bb435493e8931872839f9e",
            "fd56eb062ba34da6a8cc9de993985d2b",
            "7c2e736dbd0642e1bcc12e19ea9e0ded",
            "ba4bcae8c8cc4855890dd201808c8b13",
            "cb35588ab3244d02a243061fc69a2b58",
            "fc40bbf6d7f04d95a60e2ba90f64dcd8",
            "8326120f5f4d4b10b348c8c9f4099f82",
            "5070414bfd2445d897be3fe49743a7db",
            "3e54e929a54648c68fcc3fd72da965a2",
            "01d3c01c39ae4abfa3c30c99b176e243",
            "b0222cb976944aa9b7aff68f425bf513"
          ]
        },
        "id": "8ZwTcAYJ9H5b",
        "outputId": "705d71c1-6c66-4361-c850-c37bc481c0f2"
      },
      "id": "8ZwTcAYJ9H5b",
      "execution_count": null,
      "outputs": [
        {
          "output_type": "display_data",
          "data": {
            "text/plain": [
              "  0%|          | 0/10 [00:00<?, ?it/s]"
            ],
            "application/vnd.jupyter.widget-view+json": {
              "version_major": 2,
              "version_minor": 0,
              "model_id": "a386109345bb435493e8931872839f9e"
            }
          },
          "metadata": {}
        },
        {
          "output_type": "stream",
          "name": "stdout",
          "text": [
            "torch.Size([64, 3, 12, 474])\n",
            "torch.Size([64, 3, 12, 474])\n",
            "torch.Size([64, 3, 12, 474])\n",
            "torch.Size([64, 3, 12, 474])\n",
            "torch.Size([64, 3, 12, 474])\n",
            "torch.Size([64, 3, 12, 474])\n",
            "torch.Size([64, 3, 12, 474])\n",
            "torch.Size([64, 3, 12, 474])\n",
            "torch.Size([64, 3, 12, 474])\n",
            "torch.Size([64, 3, 12, 474])\n",
            "torch.Size([64, 3, 12, 474])\n",
            "torch.Size([64, 3, 12, 474])\n",
            "torch.Size([64, 3, 12, 474])\n",
            "torch.Size([64, 3, 12, 474])\n",
            "torch.Size([64, 3, 12, 474])\n",
            "torch.Size([64, 3, 12, 474])\n",
            "torch.Size([64, 3, 12, 474])\n",
            "torch.Size([64, 3, 12, 474])\n",
            "torch.Size([64, 3, 12, 474])\n",
            "torch.Size([64, 3, 12, 474])\n",
            "torch.Size([64, 3, 12, 474])\n",
            "torch.Size([64, 3, 12, 474])\n",
            "torch.Size([64, 3, 12, 474])\n",
            "torch.Size([64, 3, 12, 474])\n",
            "torch.Size([64, 3, 12, 474])\n",
            "epoch: 1 loss: 0.050\n",
            "torch.Size([64, 3, 12, 474])\n",
            "torch.Size([64, 3, 12, 474])\n",
            "torch.Size([64, 3, 12, 474])\n",
            "torch.Size([64, 3, 12, 474])\n",
            "torch.Size([64, 3, 12, 474])\n",
            "torch.Size([64, 3, 12, 474])\n",
            "torch.Size([64, 3, 12, 474])\n",
            "torch.Size([64, 3, 12, 474])\n",
            "torch.Size([64, 3, 12, 474])\n",
            "torch.Size([64, 3, 12, 474])\n",
            "torch.Size([64, 3, 12, 474])\n",
            "torch.Size([64, 3, 12, 474])\n",
            "torch.Size([64, 3, 12, 474])\n",
            "torch.Size([64, 3, 12, 474])\n",
            "torch.Size([64, 3, 12, 474])\n",
            "torch.Size([64, 3, 12, 474])\n",
            "torch.Size([64, 3, 12, 474])\n",
            "torch.Size([64, 3, 12, 474])\n",
            "torch.Size([64, 3, 12, 474])\n",
            "torch.Size([64, 3, 12, 474])\n",
            "torch.Size([64, 3, 12, 474])\n",
            "torch.Size([64, 3, 12, 474])\n",
            "torch.Size([64, 3, 12, 474])\n",
            "torch.Size([64, 3, 12, 474])\n",
            "torch.Size([64, 3, 12, 474])\n",
            "epoch: 2 loss: 0.040\n",
            "torch.Size([64, 3, 12, 474])\n",
            "torch.Size([64, 3, 12, 474])\n",
            "torch.Size([64, 3, 12, 474])\n",
            "torch.Size([64, 3, 12, 474])\n",
            "torch.Size([64, 3, 12, 474])\n",
            "torch.Size([64, 3, 12, 474])\n",
            "torch.Size([64, 3, 12, 474])\n",
            "torch.Size([64, 3, 12, 474])\n",
            "torch.Size([64, 3, 12, 474])\n",
            "torch.Size([64, 3, 12, 474])\n",
            "torch.Size([64, 3, 12, 474])\n",
            "torch.Size([64, 3, 12, 474])\n",
            "torch.Size([64, 3, 12, 474])\n",
            "torch.Size([64, 3, 12, 474])\n",
            "torch.Size([64, 3, 12, 474])\n",
            "torch.Size([64, 3, 12, 474])\n",
            "torch.Size([64, 3, 12, 474])\n",
            "torch.Size([64, 3, 12, 474])\n",
            "torch.Size([64, 3, 12, 474])\n",
            "torch.Size([64, 3, 12, 474])\n",
            "torch.Size([64, 3, 12, 474])\n",
            "torch.Size([64, 3, 12, 474])\n",
            "torch.Size([64, 3, 12, 474])\n",
            "torch.Size([64, 3, 12, 474])\n",
            "torch.Size([64, 3, 12, 474])\n",
            "epoch: 3 loss: 0.034\n",
            "torch.Size([64, 3, 12, 474])\n",
            "torch.Size([64, 3, 12, 474])\n",
            "torch.Size([64, 3, 12, 474])\n",
            "torch.Size([64, 3, 12, 474])\n",
            "torch.Size([64, 3, 12, 474])\n",
            "torch.Size([64, 3, 12, 474])\n",
            "torch.Size([64, 3, 12, 474])\n",
            "torch.Size([64, 3, 12, 474])\n",
            "torch.Size([64, 3, 12, 474])\n",
            "torch.Size([64, 3, 12, 474])\n",
            "torch.Size([64, 3, 12, 474])\n",
            "torch.Size([64, 3, 12, 474])\n",
            "torch.Size([64, 3, 12, 474])\n",
            "torch.Size([64, 3, 12, 474])\n",
            "torch.Size([64, 3, 12, 474])\n",
            "torch.Size([64, 3, 12, 474])\n",
            "torch.Size([64, 3, 12, 474])\n",
            "torch.Size([64, 3, 12, 474])\n",
            "torch.Size([64, 3, 12, 474])\n",
            "torch.Size([64, 3, 12, 474])\n",
            "torch.Size([64, 3, 12, 474])\n",
            "torch.Size([64, 3, 12, 474])\n",
            "torch.Size([64, 3, 12, 474])\n",
            "torch.Size([64, 3, 12, 474])\n",
            "torch.Size([64, 3, 12, 474])\n",
            "epoch: 4 loss: 0.031\n",
            "torch.Size([64, 3, 12, 474])\n",
            "torch.Size([64, 3, 12, 474])\n",
            "torch.Size([64, 3, 12, 474])\n",
            "torch.Size([64, 3, 12, 474])\n",
            "torch.Size([64, 3, 12, 474])\n",
            "torch.Size([64, 3, 12, 474])\n",
            "torch.Size([64, 3, 12, 474])\n",
            "torch.Size([64, 3, 12, 474])\n",
            "torch.Size([64, 3, 12, 474])\n",
            "torch.Size([64, 3, 12, 474])\n",
            "torch.Size([64, 3, 12, 474])\n",
            "torch.Size([64, 3, 12, 474])\n",
            "torch.Size([64, 3, 12, 474])\n",
            "torch.Size([64, 3, 12, 474])\n",
            "torch.Size([64, 3, 12, 474])\n",
            "torch.Size([64, 3, 12, 474])\n",
            "torch.Size([64, 3, 12, 474])\n",
            "torch.Size([64, 3, 12, 474])\n",
            "torch.Size([64, 3, 12, 474])\n",
            "torch.Size([64, 3, 12, 474])\n",
            "torch.Size([64, 3, 12, 474])\n",
            "torch.Size([64, 3, 12, 474])\n",
            "torch.Size([64, 3, 12, 474])\n",
            "torch.Size([64, 3, 12, 474])\n",
            "torch.Size([64, 3, 12, 474])\n",
            "epoch: 5 loss: 0.028\n",
            "torch.Size([64, 3, 12, 474])\n",
            "torch.Size([64, 3, 12, 474])\n",
            "torch.Size([64, 3, 12, 474])\n",
            "torch.Size([64, 3, 12, 474])\n",
            "torch.Size([64, 3, 12, 474])\n",
            "torch.Size([64, 3, 12, 474])\n",
            "torch.Size([64, 3, 12, 474])\n",
            "torch.Size([64, 3, 12, 474])\n",
            "torch.Size([64, 3, 12, 474])\n",
            "torch.Size([64, 3, 12, 474])\n",
            "torch.Size([64, 3, 12, 474])\n",
            "torch.Size([64, 3, 12, 474])\n",
            "torch.Size([64, 3, 12, 474])\n",
            "torch.Size([64, 3, 12, 474])\n",
            "torch.Size([64, 3, 12, 474])\n",
            "torch.Size([64, 3, 12, 474])\n",
            "torch.Size([64, 3, 12, 474])\n",
            "torch.Size([64, 3, 12, 474])\n",
            "torch.Size([64, 3, 12, 474])\n",
            "torch.Size([64, 3, 12, 474])\n",
            "torch.Size([64, 3, 12, 474])\n",
            "torch.Size([64, 3, 12, 474])\n",
            "torch.Size([64, 3, 12, 474])\n",
            "torch.Size([64, 3, 12, 474])\n",
            "torch.Size([64, 3, 12, 474])\n",
            "epoch: 6 loss: 0.026\n",
            "torch.Size([64, 3, 12, 474])\n",
            "torch.Size([64, 3, 12, 474])\n",
            "torch.Size([64, 3, 12, 474])\n",
            "torch.Size([64, 3, 12, 474])\n",
            "torch.Size([64, 3, 12, 474])\n",
            "torch.Size([64, 3, 12, 474])\n",
            "torch.Size([64, 3, 12, 474])\n",
            "torch.Size([64, 3, 12, 474])\n",
            "torch.Size([64, 3, 12, 474])\n",
            "torch.Size([64, 3, 12, 474])\n",
            "torch.Size([64, 3, 12, 474])\n",
            "torch.Size([64, 3, 12, 474])\n",
            "torch.Size([64, 3, 12, 474])\n",
            "torch.Size([64, 3, 12, 474])\n",
            "torch.Size([64, 3, 12, 474])\n",
            "torch.Size([64, 3, 12, 474])\n",
            "torch.Size([64, 3, 12, 474])\n",
            "torch.Size([64, 3, 12, 474])\n",
            "torch.Size([64, 3, 12, 474])\n",
            "torch.Size([64, 3, 12, 474])\n",
            "torch.Size([64, 3, 12, 474])\n",
            "torch.Size([64, 3, 12, 474])\n",
            "torch.Size([64, 3, 12, 474])\n",
            "torch.Size([64, 3, 12, 474])\n",
            "torch.Size([64, 3, 12, 474])\n",
            "epoch: 7 loss: 0.024\n",
            "torch.Size([64, 3, 12, 474])\n",
            "torch.Size([64, 3, 12, 474])\n",
            "torch.Size([64, 3, 12, 474])\n",
            "torch.Size([64, 3, 12, 474])\n",
            "torch.Size([64, 3, 12, 474])\n",
            "torch.Size([64, 3, 12, 474])\n",
            "torch.Size([64, 3, 12, 474])\n",
            "torch.Size([64, 3, 12, 474])\n",
            "torch.Size([64, 3, 12, 474])\n",
            "torch.Size([64, 3, 12, 474])\n",
            "torch.Size([64, 3, 12, 474])\n",
            "torch.Size([64, 3, 12, 474])\n",
            "torch.Size([64, 3, 12, 474])\n",
            "torch.Size([64, 3, 12, 474])\n",
            "torch.Size([64, 3, 12, 474])\n",
            "torch.Size([64, 3, 12, 474])\n",
            "torch.Size([64, 3, 12, 474])\n",
            "torch.Size([64, 3, 12, 474])\n",
            "torch.Size([64, 3, 12, 474])\n",
            "torch.Size([64, 3, 12, 474])\n",
            "torch.Size([64, 3, 12, 474])\n",
            "torch.Size([64, 3, 12, 474])\n",
            "torch.Size([64, 3, 12, 474])\n",
            "torch.Size([64, 3, 12, 474])\n",
            "torch.Size([64, 3, 12, 474])\n",
            "epoch: 8 loss: 0.022\n",
            "torch.Size([64, 3, 12, 474])\n",
            "torch.Size([64, 3, 12, 474])\n",
            "torch.Size([64, 3, 12, 474])\n",
            "torch.Size([64, 3, 12, 474])\n",
            "torch.Size([64, 3, 12, 474])\n",
            "torch.Size([64, 3, 12, 474])\n",
            "torch.Size([64, 3, 12, 474])\n",
            "torch.Size([64, 3, 12, 474])\n",
            "torch.Size([64, 3, 12, 474])\n",
            "torch.Size([64, 3, 12, 474])\n",
            "torch.Size([64, 3, 12, 474])\n",
            "torch.Size([64, 3, 12, 474])\n",
            "torch.Size([64, 3, 12, 474])\n",
            "torch.Size([64, 3, 12, 474])\n",
            "torch.Size([64, 3, 12, 474])\n",
            "torch.Size([64, 3, 12, 474])\n",
            "torch.Size([64, 3, 12, 474])\n",
            "torch.Size([64, 3, 12, 474])\n",
            "torch.Size([64, 3, 12, 474])\n",
            "torch.Size([64, 3, 12, 474])\n",
            "torch.Size([64, 3, 12, 474])\n",
            "torch.Size([64, 3, 12, 474])\n",
            "torch.Size([64, 3, 12, 474])\n",
            "torch.Size([64, 3, 12, 474])\n",
            "torch.Size([64, 3, 12, 474])\n",
            "epoch: 9 loss: 0.021\n",
            "torch.Size([64, 3, 12, 474])\n",
            "torch.Size([64, 3, 12, 474])\n",
            "torch.Size([64, 3, 12, 474])\n",
            "torch.Size([64, 3, 12, 474])\n",
            "torch.Size([64, 3, 12, 474])\n",
            "torch.Size([64, 3, 12, 474])\n",
            "torch.Size([64, 3, 12, 474])\n",
            "torch.Size([64, 3, 12, 474])\n",
            "torch.Size([64, 3, 12, 474])\n",
            "torch.Size([64, 3, 12, 474])\n",
            "torch.Size([64, 3, 12, 474])\n",
            "torch.Size([64, 3, 12, 474])\n",
            "torch.Size([64, 3, 12, 474])\n",
            "torch.Size([64, 3, 12, 474])\n",
            "torch.Size([64, 3, 12, 474])\n",
            "torch.Size([64, 3, 12, 474])\n",
            "torch.Size([64, 3, 12, 474])\n",
            "torch.Size([64, 3, 12, 474])\n",
            "torch.Size([64, 3, 12, 474])\n",
            "torch.Size([64, 3, 12, 474])\n",
            "torch.Size([64, 3, 12, 474])\n",
            "torch.Size([64, 3, 12, 474])\n",
            "torch.Size([64, 3, 12, 474])\n",
            "torch.Size([64, 3, 12, 474])\n",
            "torch.Size([64, 3, 12, 474])\n",
            "epoch: 10 loss: 0.019\n"
          ]
        },
        {
          "output_type": "display_data",
          "data": {
            "text/plain": [
              "<Figure size 432x288 with 1 Axes>"
            ],
            "image/png": "[encoded data removed]"
          },
          "metadata": {}
        }
      ]
    },
    {
      "cell_type": "code",
      "source": [
        "#chromagrams is an array, we need tensors\n",
        "\n",
        "transform_test = transforms.Compose([transforms.ToTensor(),\n",
        "                                #transforms.Lambda(lambda x: torch.cat([x, x, x], 0)),\n",
        "                                transforms.Lambda(lambda x: x.repeat(3, 1, 1, 1)),\n",
        "                                #transforms.RandomAffine(degrees=0, translate=(0.1,0)),\n",
        "                                #transforms.RandomErasing(p=0.4, scale=(0.02, 0.03), ratio=(0.2,0.3), value=0.6, inplace=False),  \n",
        "                                #transforms.RandomErasing(p=0.4, scale=(0.02, 0.1), ratio=(0.02,0.05), value=0.9, inplace=False)\n",
        "                               ])\n",
        "\n",
        "test = transform_test(chromagrams_array)\n",
        "test = test.permute((2, 0, 3, 1)).to(device).float()\n",
        "print(chromagrams_array.shape)\n",
        "print(test.shape)\n",
        "\n",
        "features = model(test)\n",
        "\n",
        "print(features.shape)\n",
        "\n",
        "features = features.detach().cpu().numpy()"
      ],
      "metadata": {
        "colab": {
          "base_uri": "https://localhost:8080/",
          "height": 252
        },
        "id": "wHMgM96VHg1A",
        "outputId": "8df58331-81b9-4321-e38b-095ba476917e"
      },
      "id": "wHMgM96VHg1A",
      "execution_count": null,
      "outputs": [
        {
          "output_type": "error",
          "ename": "OutOfMemoryError",
          "evalue": "ignored",
          "traceback": [
            "\u001b[0;31m---------------------------------------------------------------------------\u001b[0m",
            "\u001b[0;31mOutOfMemoryError\u001b[0m                          Traceback (most recent call last)",
            "\u001b[0;32m<ipython-input-52-96290af48748>\u001b[0m in \u001b[0;36m<module>\u001b[0;34m\u001b[0m\n\u001b[1;32m     10\u001b[0m \u001b[0;34m\u001b[0m\u001b[0m\n\u001b[1;32m     11\u001b[0m \u001b[0mtest\u001b[0m \u001b[0;34m=\u001b[0m \u001b[0mtransform_test\u001b[0m\u001b[0;34m(\u001b[0m\u001b[0mchromagrams_array\u001b[0m\u001b[0;34m)\u001b[0m\u001b[0;34m\u001b[0m\u001b[0;34m\u001b[0m\u001b[0m\n\u001b[0;32m---> 12\u001b[0;31m \u001b[0mtest\u001b[0m \u001b[0;34m=\u001b[0m \u001b[0mtest\u001b[0m\u001b[0;34m.\u001b[0m\u001b[0mpermute\u001b[0m\u001b[0;34m(\u001b[0m\u001b[0;34m(\u001b[0m\u001b[0;36m2\u001b[0m\u001b[0;34m,\u001b[0m \u001b[0;36m0\u001b[0m\u001b[0;34m,\u001b[0m \u001b[0;36m3\u001b[0m\u001b[0;34m,\u001b[0m \u001b[0;36m1\u001b[0m\u001b[0;34m)\u001b[0m\u001b[0;34m)\u001b[0m\u001b[0;34m.\u001b[0m\u001b[0mto\u001b[0m\u001b[0;34m(\u001b[0m\u001b[0mdevice\u001b[0m\u001b[0;34m)\u001b[0m\u001b[0;34m.\u001b[0m\u001b[0mfloat\u001b[0m\u001b[0;34m(\u001b[0m\u001b[0;34m)\u001b[0m\u001b[0;34m\u001b[0m\u001b[0;34m\u001b[0m\u001b[0m\n\u001b[0m\u001b[1;32m     13\u001b[0m \u001b[0mprint\u001b[0m\u001b[0;34m(\u001b[0m\u001b[0mchromagrams_array\u001b[0m\u001b[0;34m.\u001b[0m\u001b[0mshape\u001b[0m\u001b[0;34m)\u001b[0m\u001b[0;34m\u001b[0m\u001b[0;34m\u001b[0m\u001b[0m\n\u001b[1;32m     14\u001b[0m \u001b[0mprint\u001b[0m\u001b[0;34m(\u001b[0m\u001b[0mtest\u001b[0m\u001b[0;34m.\u001b[0m\u001b[0mshape\u001b[0m\u001b[0;34m)\u001b[0m\u001b[0;34m\u001b[0m\u001b[0;34m\u001b[0m\u001b[0m\n",
            "\u001b[0;31mOutOfMemoryError\u001b[0m: CUDA out of memory. Tried to allocate 212.00 MiB (GPU 0; 14.75 GiB total capacity; 13.41 GiB already allocated; 126.81 MiB free; 13.51 GiB reserved in total by PyTorch) If reserved memory is >> allocated memory try setting max_split_size_mb to avoid fragmentation.  See documentation for Memory Management and PYTORCH_CUDA_ALLOC_CONF"
          ]
        }
      ]
    },
    {
      "cell_type": "markdown",
      "source": [
        "clustering\n",
        "\n",
        "with calinsky score"
      ],
      "metadata": {
        "id": "X1iD3-uMx4df"
      },
      "id": "X1iD3-uMx4df"
    },
    {
      "cell_type": "code",
      "source": [
        "from sklearn.metrics import calinski_harabasz_score\n",
        "\n",
        "cluster_number = range(2,20) \n",
        "\n",
        "distortions = []\n",
        "silhouette_scores = []\n",
        "calinski_harabasz_scores = []\n",
        "for n in cluster_number:\n",
        "    print(n, end=' ')\n",
        "    estimator = KMeans(n_clusters = n, init='k-means++', n_init=10, max_iter=300)\n",
        "    y = estimator.fit_predict(features)\n",
        "    distortions.append(estimator.inertia_)\n",
        "    silhouette_scores.append(silhouette_score(features,y))\n",
        "    calinski_harabasz_scores.append(calinski_harabasz_score(features,y))\n",
        "print()"
      ],
      "metadata": {
        "id": "5UHc84jPqB7y"
      },
      "id": "5UHc84jPqB7y",
      "execution_count": null,
      "outputs": []
    },
    {
      "cell_type": "code",
      "source": [
        "t = cluster_number\n",
        "data1 = distortions\n",
        "data2 = calinski_harabasz_scores #silhouette_scores\n",
        "\n",
        "fig, ax1 = plt.subplots(figsize = (15, 10))\n",
        "          \n",
        "color = 'tab:red'\n",
        "ax1.set_xlabel('number of clusters')\n",
        "ax1.set_ylabel('inertia', color=color)\n",
        "ax1.plot(t, data1, color=color)\n",
        "ax1.tick_params(axis='y', labelcolor=color)\n",
        "\n",
        "ax2 = ax1.twinx()  # instantiate a second axes that shares the same x-axis\n",
        "\n",
        "color = 'tab:blue'\n",
        "ax2.set_ylabel('calinski_harabasz_scores', color=color)  # we already handled the x-label with ax1\n",
        "ax2.plot(t, data2, color=color)\n",
        "ax2.tick_params(axis='y', labelcolor=color)\n",
        "#ax2.set_ylim(-0.03,1) # the axis for silhouette is [0,1]\n",
        "\n",
        "fig.tight_layout()  # otherwise the right y-label is slightly clipped\n",
        "\n",
        "plt.show()\n",
        "print(features[0].shape)"
      ],
      "metadata": {
        "id": "Dp70Qu5-xUxK"
      },
      "id": "Dp70Qu5-xUxK",
      "execution_count": null,
      "outputs": []
    },
    {
      "cell_type": "code",
      "source": [
        "good_k = 10\n",
        "\n",
        "estimator = KMeans(n_clusters = good_k, init='k-means++', n_init=10, max_iter=300,)\n",
        "y = estimator.fit_predict(features)"
      ],
      "metadata": {
        "id": "chONxf3QzBl-"
      },
      "id": "chONxf3QzBl-",
      "execution_count": null,
      "outputs": []
    },
    {
      "cell_type": "code",
      "source": [
        "plot_clusters(features, y, dim= (0,1), points= estimator.cluster_centers_)"
      ],
      "metadata": {
        "id": "lCmSgT-9ypEv"
      },
      "id": "lCmSgT-9ypEv",
      "execution_count": null,
      "outputs": []
    },
    {
      "cell_type": "markdown",
      "source": [
        "clustering\n",
        "\n",
        "with silouhette score"
      ],
      "metadata": {
        "id": "Zwe-GRpfx7Z9"
      },
      "id": "Zwe-GRpfx7Z9"
    },
    {
      "cell_type": "markdown",
      "source": [
        "various tests\n",
        "\n",
        "do not run"
      ],
      "metadata": {
        "id": "xB3FEXx3p6fY"
      },
      "id": "xB3FEXx3p6fY"
    },
    {
      "cell_type": "code",
      "source": [
        "class SimCLR(pl.LightningModule):\n",
        "\n",
        "    def __init__(self, hidden_dim, lr, temperature, weight_decay, max_epochs=500):\n",
        "        super().__init__()\n",
        "        self.save_hyperparameters()\n",
        "        assert self.hparams.temperature > 0.0, 'The temperature must be a positive float!'\n",
        "        # Base model f(.)\n",
        "        self.convnet = torchvision.models.resnet18(num_classes=4*hidden_dim)  # Output of last linear layer\n",
        "        # The MLP for g(.) consists of Linear->ReLU->Linear\n",
        "        self.convnet.fc = nn.Sequential(\n",
        "            self.convnet.fc,  # Linear(ResNet output, 4*hidden_dim)\n",
        "            nn.ReLU(inplace=True),\n",
        "            nn.Linear(4*hidden_dim, hidden_dim)\n",
        "        )\n",
        "\n",
        "    def configure_optimizers(self):\n",
        "        optimizer = optim.AdamW(self.parameters(),\n",
        "                                lr=self.hparams.lr,\n",
        "                                weight_decay=self.hparams.weight_decay)\n",
        "        lr_scheduler = optim.lr_scheduler.CosineAnnealingLR(optimizer,\n",
        "                                                            T_max=self.hparams.max_epochs,\n",
        "                                                            eta_min=self.hparams.lr/50)\n",
        "        return [optimizer], [lr_scheduler]\n",
        "\n",
        "    def info_nce_loss(self, batch, mode='train'):\n",
        "        imgs = batch\n",
        "        print(imgs.shape)\n",
        "        imgs = torch.cat(imgs, dim=0)\n",
        "\n",
        "        # Encode all images\n",
        "        feats = self.convnet(imgs)\n",
        "        # Calculate cosine similarity\n",
        "        cos_sim = F.cosine_similarity(feats[:,None,:], feats[None,:,:], dim=-1)\n",
        "        # Mask out cosine similarity to itself\n",
        "        self_mask = torch.eye(cos_sim.shape[0], dtype=torch.bool, device=cos_sim.device)\n",
        "        cos_sim.masked_fill_(self_mask, -9e15)\n",
        "        # Find positive example -> batch_size//2 away from the original example\n",
        "        pos_mask = self_mask.roll(shifts=cos_sim.shape[0]//2, dims=0)\n",
        "        # InfoNCE loss\n",
        "        cos_sim = cos_sim / self.hparams.temperature\n",
        "        nll = -cos_sim[pos_mask] + torch.logsumexp(cos_sim, dim=-1)\n",
        "        nll = nll.mean()\n",
        "\n",
        "        # Logging loss\n",
        "        self.log(mode+'_loss', nll)\n",
        "        # Get ranking position of positive example\n",
        "        comb_sim = torch.cat([cos_sim[pos_mask][:,None],  # First position positive example\n",
        "                              cos_sim.masked_fill(pos_mask, -9e15)],\n",
        "                             dim=-1)\n",
        "        sim_argsort = comb_sim.argsort(dim=-1, descending=True).argmin(dim=-1)\n",
        "        # Logging ranking metrics\n",
        "        self.log(mode+'_acc_top1', (sim_argsort == 0).float().mean())\n",
        "        self.log(mode+'_acc_top5', (sim_argsort < 5).float().mean())\n",
        "        self.log(mode+'_acc_mean_pos', 1+sim_argsort.float().mean())\n",
        "\n",
        "        return nll\n",
        "\n",
        "    def training_step(self, batch, batch_idx):\n",
        "        return self.info_nce_loss(batch, mode='train')\n",
        "\n",
        "    def validation_step(self, batch, batch_idx):\n",
        "        self.info_nce_loss(batch, mode='val')"
      ],
      "metadata": {
        "id": "S8ja2JP5oscm"
      },
      "id": "S8ja2JP5oscm",
      "execution_count": null,
      "outputs": []
    },
    {
      "cell_type": "code",
      "source": [
        "def train_simclr(batch_size, max_epochs=500, **kwargs):\n",
        "    trainer = pl.Trainer(default_root_dir=os.path.join(CHECKPOINT_PATH, 'SimCLR'),\n",
        "                         accelerator=\"gpu\" if str(device).startswith(\"cuda\") else \"cpu\",\n",
        "                         devices=1,\n",
        "                         max_epochs=max_epochs,\n",
        "                         callbacks=[ModelCheckpoint(save_weights_only=True, mode='max', monitor='val_acc_top5'),\n",
        "                                    LearningRateMonitor('epoch')])\n",
        "\n",
        "    # Check whether pretrained model exists. If yes, load it and skip training\n",
        "    pretrained_filename = os.path.join(CHECKPOINT_PATH, 'SimCLR.ckpt')\n",
        "    if os.path.isfile(pretrained_filename):\n",
        "        print(f'Found pretrained model at {pretrained_filename}, loading...')\n",
        "        model = SimCLR.load_from_checkpoint(pretrained_filename) # Automatically loads the model with the saved hyperparameters\n",
        "    else:\n",
        "        train_loader = torch.utils.data.DataLoader(augmented_dataset1, batch_size=batch_size, shuffle=False, drop_last=False, pin_memory=True)\n",
        "        #train_loader = train_dataloader1\n",
        "        #val_loader = data.DataLoader(augmented_dataset2, batch_size=batch_size, shuffle=False,drop_last=False, pin_memory=True, num_workers=NUM_WORKERS)\n",
        "        pl.seed_everything(42) # To be reproducable\n",
        "        model = SimCLR(max_epochs=max_epochs, **kwargs)\n",
        "        trainer.fit(model, train_loader, val_loader)\n",
        "        model = SimCLR.load_from_checkpoint(trainer.checkpoint_callback.best_model_path) # Load best checkpoint after training\n",
        "\n",
        "    return model"
      ],
      "metadata": {
        "id": "n-iPB6kKz9rt"
      },
      "id": "n-iPB6kKz9rt",
      "execution_count": null,
      "outputs": []
    },
    {
      "cell_type": "code",
      "source": [
        "simclr_model = train_simclr(batch_size=256,\n",
        "                            hidden_dim=128,\n",
        "                            lr=5e-4,\n",
        "                            temperature=0.07,\n",
        "                            weight_decay=1e-4,\n",
        "                            max_epochs=500)"
      ],
      "metadata": {
        "colab": {
          "base_uri": "https://localhost:8080/",
          "height": 235
        },
        "id": "I1TQUZKN2MMq",
        "outputId": "d453e274-9d02-43c5-ecfa-965f1a4f36b3"
      },
      "id": "I1TQUZKN2MMq",
      "execution_count": null,
      "outputs": [
        {
          "output_type": "error",
          "ename": "NameError",
          "evalue": "ignored",
          "traceback": [
            "\u001b[0;31m---------------------------------------------------------------------------\u001b[0m",
            "\u001b[0;31mNameError\u001b[0m                                 Traceback (most recent call last)",
            "\u001b[0;32m<ipython-input-3-ba8db97e3556>\u001b[0m in \u001b[0;36m<module>\u001b[0;34m\u001b[0m\n\u001b[0;32m----> 1\u001b[0;31m simclr_model = train_simclr(batch_size=256,\n\u001b[0m\u001b[1;32m      2\u001b[0m                             \u001b[0mhidden_dim\u001b[0m\u001b[0;34m=\u001b[0m\u001b[0;36m128\u001b[0m\u001b[0;34m,\u001b[0m\u001b[0;34m\u001b[0m\u001b[0;34m\u001b[0m\u001b[0m\n\u001b[1;32m      3\u001b[0m                             \u001b[0mlr\u001b[0m\u001b[0;34m=\u001b[0m\u001b[0;36m5e-4\u001b[0m\u001b[0;34m,\u001b[0m\u001b[0;34m\u001b[0m\u001b[0;34m\u001b[0m\u001b[0m\n\u001b[1;32m      4\u001b[0m                             \u001b[0mtemperature\u001b[0m\u001b[0;34m=\u001b[0m\u001b[0;36m0.07\u001b[0m\u001b[0;34m,\u001b[0m\u001b[0;34m\u001b[0m\u001b[0;34m\u001b[0m\u001b[0m\n\u001b[1;32m      5\u001b[0m                             \u001b[0mweight_decay\u001b[0m\u001b[0;34m=\u001b[0m\u001b[0;36m1e-4\u001b[0m\u001b[0;34m,\u001b[0m\u001b[0;34m\u001b[0m\u001b[0;34m\u001b[0m\u001b[0m\n",
            "\u001b[0;31mNameError\u001b[0m: name 'train_simclr' is not defined"
          ]
        }
      ]
    },
    {
      "cell_type": "code",
      "source": [
        "# Path to the folder where the datasets are/should be downloaded (e.g. CIFAR10)\n",
        "DATASET_PATH = \"../data\"\n",
        "# Path to the folder where the pretrained models are saved\n",
        "CHECKPOINT_PATH = \"../saved_models/tutorial17\"\n",
        "# In this notebook, we use data loaders with heavier computational processing. It is recommended to use as many\n",
        "# workers as possible in a data loader, which corresponds to the number of CPU cores\n",
        "NUM_WORKERS = os.cpu_count()\n",
        "\n",
        "# Setting the seed\n",
        "pl.seed_everything(42)\n",
        "\n",
        "# Ensure that all operations are deterministic on GPU (if used) for reproducibility\n",
        "torch.backends.cudnn.deterministic = True\n",
        "torch.backends.cudnn.benchmark = False\n",
        "\n",
        "device = torch.device(\"cuda:0\") if torch.cuda.is_available() else torch.device(\"cpu\")\n",
        "print(\"Device:\", device)\n",
        "print(\"Number of workers:\", NUM_WORKERS)\n",
        "\n",
        "\n",
        "import urllib.request\n",
        "from urllib.error import HTTPError\n",
        "# Github URL where saved models are stored for this tutorial\n",
        "base_url = \"https://raw.githubusercontent.com/phlippe/saved_models/main/tutorial17/\"\n",
        "# Files to download\n",
        "pretrained_files = [\"SimCLR.ckpt\", \"ResNet.ckpt\",\n",
        "                    \"tensorboards/SimCLR/events.out.tfevents.SimCLR\",\n",
        "                    \"tensorboards/classification/ResNet/events.out.tfevents.ResNet\"]\n",
        "pretrained_files += [f\"LogisticRegression_{size}.ckpt\" for size in [10, 20, 50, 100, 200, 500]]\n",
        "# Create checkpoint path if it doesn't exist yet\n",
        "os.makedirs(CHECKPOINT_PATH, exist_ok=True)\n",
        "\n",
        "# For each file, check whether it already exists. If not, try downloading it.\n",
        "for file_name in pretrained_files:\n",
        "    file_path = os.path.join(CHECKPOINT_PATH, file_name)\n",
        "    if \"/\" in file_name:\n",
        "        os.makedirs(file_path.rsplit(\"/\",1)[0], exist_ok=True)\n",
        "    if not os.path.isfile(file_path):\n",
        "        file_url = base_url + file_name\n",
        "        print(f\"Downloading {file_url}...\")\n",
        "        try:\n",
        "            urllib.request.urlretrieve(file_url, file_path)\n",
        "        except HTTPError as e:\n",
        "            print(\"Something went wrong. Please try to download the file from the GDrive folder, or contact the author with the full output including the following error:\\n\", e)"
      ],
      "metadata": {
        "id": "NF9tiqSj8nj1"
      },
      "id": "NF9tiqSj8nj1",
      "execution_count": null,
      "outputs": []
    },
    {
      "cell_type": "code",
      "source": [
        "contrast_transforms = transforms.Compose([transforms.RandomHorizontalFlip(),\n",
        "                                          transforms.RandomResizedCrop(size=96),\n",
        "                                          transforms.RandomApply([\n",
        "                                              transforms.ColorJitter(brightness=0.5,\n",
        "                                                                     contrast=0.5,\n",
        "                                                                     saturation=0.5,\n",
        "                                                                     hue=0.1)\n",
        "                                          ], p=0.8),\n",
        "                                          transforms.RandomGrayscale(p=0.2),\n",
        "                                          transforms.GaussianBlur(kernel_size=9),\n",
        "                                          transforms.ToTensor(),\n",
        "                                          transforms.Normalize((0.5,), (0.5,))\n",
        "                                         ])"
      ],
      "metadata": {
        "id": "wDbwaSUd-H_j"
      },
      "id": "wDbwaSUd-H_j",
      "execution_count": null,
      "outputs": []
    },
    {
      "cell_type": "code",
      "source": [
        "class ContrastiveTransformations(object):\n",
        "\n",
        "    def __init__(self, base_transforms, n_views=2):\n",
        "        self.base_transforms = base_transforms\n",
        "        self.n_views = n_views\n",
        "\n",
        "    def __call__(self, x):\n",
        "        return [self.base_transforms(x) for i in range(self.n_views)]"
      ],
      "metadata": {
        "id": "tpzXbsJc-O0c"
      },
      "id": "tpzXbsJc-O0c",
      "execution_count": null,
      "outputs": []
    },
    {
      "cell_type": "code",
      "source": [
        "unlabeled_data = STL10(root=DATASET_PATH, split='unlabeled', download=True,\n",
        "                       transform=ContrastiveTransformations(contrast_transforms, n_views=2))"
      ],
      "metadata": {
        "id": "RAo5hcqE9D4x"
      },
      "id": "RAo5hcqE9D4x",
      "execution_count": null,
      "outputs": []
    },
    {
      "cell_type": "code",
      "source": [
        "# Visualize some examples\n",
        "pl.seed_everything(42)\n",
        "NUM_IMAGES = 6\n",
        "imgs = torch.stack([img for idx in range(NUM_IMAGES) for img in unlabeled_data[idx][0]], dim=0)\n",
        "\n",
        "print(imgs[0].shape)\n",
        "\n",
        "img_grid = torchvision.utils.make_grid(imgs, nrow=6, normalize=True, pad_value=0.9)\n",
        "img_grid = img_grid.permute(1, 2, 0)\n",
        "\n",
        "plt.figure(figsize=(10,5))\n",
        "plt.title('Augmented image examples of the STL10 dataset')\n",
        "plt.imshow(img_grid)\n",
        "plt.axis('off')\n",
        "plt.show()\n",
        "plt.close()"
      ],
      "metadata": {
        "id": "2J3pzZEP9kFG"
      },
      "id": "2J3pzZEP9kFG",
      "execution_count": null,
      "outputs": []
    },
    {
      "cell_type": "code",
      "source": [
        "# Gather dataset\n",
        "!git clone https://github.com/thunderInfy/imagenet-5-categories"
      ],
      "metadata": {
        "id": "j6Mc4MPPDkvr"
      },
      "id": "j6Mc4MPPDkvr",
      "execution_count": null,
      "outputs": []
    },
    {
      "cell_type": "code",
      "source": [
        "from imutils import paths\n",
        "train_images = list(paths.list_images(\"imagenet-5-categories/train\"))\n",
        "print(len(train_images))"
      ],
      "metadata": {
        "id": "gqoEnj0YDnWU"
      },
      "id": "gqoEnj0YDnWU",
      "execution_count": null,
      "outputs": []
    },
    {
      "cell_type": "code",
      "source": [
        "# Image preprocessing utils\n",
        "@tf.function\n",
        "def parse_images(image_path):\n",
        "    image_string = tf.io.read_file(image_path)\n",
        "    image = tf.image.decode_jpeg(image_string, channels=3)\n",
        "    image = tf.image.convert_image_dtype(image, tf.float32)\n",
        "    image = tf.image.resize(image, size=[224, 224])\n",
        "\n",
        "    return image\n",
        "\n",
        "\n",
        "# Create TensorFlow dataset\n",
        "BATCH_SIZE = 64\n",
        "\n",
        "train_ds = tf.data.Dataset.from_tensor_slices(train_images)\n",
        "train_ds = (\n",
        "    train_ds\n",
        "    .map(parse_images, num_parallel_calls=tf.data.experimental.AUTOTUNE)\n",
        "    .shuffle(1024)\n",
        "    .batch(BATCH_SIZE, drop_remainder=True)\n",
        "    .prefetch(tf.data.experimental.AUTOTUNE)\n",
        ")"
      ],
      "metadata": {
        "id": "PeVGDkMvD6M7"
      },
      "id": "PeVGDkMvD6M7",
      "execution_count": null,
      "outputs": []
    },
    {
      "cell_type": "code",
      "source": [
        "print(train_ds)"
      ],
      "metadata": {
        "id": "TO6rU4nSEJsJ"
      },
      "id": "TO6rU4nSEJsJ",
      "execution_count": null,
      "outputs": []
    }
  ],
  "metadata": {
    "kernelspec": {
      "display_name": "Python 3 (ipykernel)",
      "language": "python",
      "name": "python3"
    },
    "language_info": {
      "codemirror_mode": {
        "name": "ipython",
        "version": 3
      },
      "file_extension": ".py",
      "mimetype": "text/x-python",
      "name": "python",
      "nbconvert_exporter": "python",
      "pygments_lexer": "ipython3",
      "version": "3.8.10"
    },
    "colab": {
      "provenance": []
    },
    "accelerator": "GPU",
    "gpuClass": "standard",
    "widgets": {
      "application/vnd.jupyter.widget-state+json": {
        "a386109345bb435493e8931872839f9e": {
          "model_module": "@jupyter-widgets/controls",
          "model_name": "HBoxModel",
          "model_module_version": "1.5.0",
          "state": {
            "_dom_classes": [],
            "_model_module": "@jupyter-widgets/controls",
            "_model_module_version": "1.5.0",
            "_model_name": "HBoxModel",
            "_view_count": null,
            "_view_module": "@jupyter-widgets/controls",
            "_view_module_version": "1.5.0",
            "_view_name": "HBoxView",
            "box_style": "",
            "children": [
              "IPY_MODEL_fd56eb062ba34da6a8cc9de993985d2b",
              "IPY_MODEL_7c2e736dbd0642e1bcc12e19ea9e0ded",
              "IPY_MODEL_ba4bcae8c8cc4855890dd201808c8b13"
            ],
            "layout": "IPY_MODEL_cb35588ab3244d02a243061fc69a2b58"
          }
        },
        "fd56eb062ba34da6a8cc9de993985d2b": {
          "model_module": "@jupyter-widgets/controls",
          "model_name": "HTMLModel",
          "model_module_version": "1.5.0",
          "state": {
            "_dom_classes": [],
            "_model_module": "@jupyter-widgets/controls",
            "_model_module_version": "1.5.0",
            "_model_name": "HTMLModel",
            "_view_count": null,
            "_view_module": "@jupyter-widgets/controls",
            "_view_module_version": "1.5.0",
            "_view_name": "HTMLView",
            "description": "",
            "description_tooltip": null,
            "layout": "IPY_MODEL_fc40bbf6d7f04d95a60e2ba90f64dcd8",
            "placeholder": "​",
            "style": "IPY_MODEL_8326120f5f4d4b10b348c8c9f4099f82",
            "value": "100%"
          }
        },
        "7c2e736dbd0642e1bcc12e19ea9e0ded": {
          "model_module": "@jupyter-widgets/controls",
          "model_name": "FloatProgressModel",
          "model_module_version": "1.5.0",
          "state": {
            "_dom_classes": [],
            "_model_module": "@jupyter-widgets/controls",
            "_model_module_version": "1.5.0",
            "_model_name": "FloatProgressModel",
            "_view_count": null,
            "_view_module": "@jupyter-widgets/controls",
            "_view_module_version": "1.5.0",
            "_view_name": "ProgressView",
            "bar_style": "success",
            "description": "",
            "description_tooltip": null,
            "layout": "IPY_MODEL_5070414bfd2445d897be3fe49743a7db",
            "max": 10,
            "min": 0,
            "orientation": "horizontal",
            "style": "IPY_MODEL_3e54e929a54648c68fcc3fd72da965a2",
            "value": 10
          }
        },
        "ba4bcae8c8cc4855890dd201808c8b13": {
          "model_module": "@jupyter-widgets/controls",
          "model_name": "HTMLModel",
          "model_module_version": "1.5.0",
          "state": {
            "_dom_classes": [],
            "_model_module": "@jupyter-widgets/controls",
            "_model_module_version": "1.5.0",
            "_model_name": "HTMLModel",
            "_view_count": null,
            "_view_module": "@jupyter-widgets/controls",
            "_view_module_version": "1.5.0",
            "_view_name": "HTMLView",
            "description": "",
            "description_tooltip": null,
            "layout": "IPY_MODEL_01d3c01c39ae4abfa3c30c99b176e243",
            "placeholder": "​",
            "style": "IPY_MODEL_b0222cb976944aa9b7aff68f425bf513",
            "value": " 10/10 [02:03&lt;00:00, 12.11s/it]"
          }
        },
        "cb35588ab3244d02a243061fc69a2b58": {
          "model_module": "@jupyter-widgets/base",
          "model_name": "LayoutModel",
          "model_module_version": "1.2.0",
          "state": {
            "_model_module": "@jupyter-widgets/base",
            "_model_module_version": "1.2.0",
            "_model_name": "LayoutModel",
            "_view_count": null,
            "_view_module": "@jupyter-widgets/base",
            "_view_module_version": "1.2.0",
            "_view_name": "LayoutView",
            "align_content": null,
            "align_items": null,
            "align_self": null,
            "border": null,
            "bottom": null,
            "display": null,
            "flex": null,
            "flex_flow": null,
            "grid_area": null,
            "grid_auto_columns": null,
            "grid_auto_flow": null,
            "grid_auto_rows": null,
            "grid_column": null,
            "grid_gap": null,
            "grid_row": null,
            "grid_template_areas": null,
            "grid_template_columns": null,
            "grid_template_rows": null,
            "height": null,
            "justify_content": null,
            "justify_items": null,
            "left": null,
            "margin": null,
            "max_height": null,
            "max_width": null,
            "min_height": null,
            "min_width": null,
            "object_fit": null,
            "object_position": null,
            "order": null,
            "overflow": null,
            "overflow_x": null,
            "overflow_y": null,
            "padding": null,
            "right": null,
            "top": null,
            "visibility": null,
            "width": null
          }
        },
        "fc40bbf6d7f04d95a60e2ba90f64dcd8": {
          "model_module": "@jupyter-widgets/base",
          "model_name": "LayoutModel",
          "model_module_version": "1.2.0",
          "state": {
            "_model_module": "@jupyter-widgets/base",
            "_model_module_version": "1.2.0",
            "_model_name": "LayoutModel",
            "_view_count": null,
            "_view_module": "@jupyter-widgets/base",
            "_view_module_version": "1.2.0",
            "_view_name": "LayoutView",
            "align_content": null,
            "align_items": null,
            "align_self": null,
            "border": null,
            "bottom": null,
            "display": null,
            "flex": null,
            "flex_flow": null,
            "grid_area": null,
            "grid_auto_columns": null,
            "grid_auto_flow": null,
            "grid_auto_rows": null,
            "grid_column": null,
            "grid_gap": null,
            "grid_row": null,
            "grid_template_areas": null,
            "grid_template_columns": null,
            "grid_template_rows": null,
            "height": null,
            "justify_content": null,
            "justify_items": null,
            "left": null,
            "margin": null,
            "max_height": null,
            "max_width": null,
            "min_height": null,
            "min_width": null,
            "object_fit": null,
            "object_position": null,
            "order": null,
            "overflow": null,
            "overflow_x": null,
            "overflow_y": null,
            "padding": null,
            "right": null,
            "top": null,
            "visibility": null,
            "width": null
          }
        },
        "8326120f5f4d4b10b348c8c9f4099f82": {
          "model_module": "@jupyter-widgets/controls",
          "model_name": "DescriptionStyleModel",
          "model_module_version": "1.5.0",
          "state": {
            "_model_module": "@jupyter-widgets/controls",
            "_model_module_version": "1.5.0",
            "_model_name": "DescriptionStyleModel",
            "_view_count": null,
            "_view_module": "@jupyter-widgets/base",
            "_view_module_version": "1.2.0",
            "_view_name": "StyleView",
            "description_width": ""
          }
        },
        "5070414bfd2445d897be3fe49743a7db": {
          "model_module": "@jupyter-widgets/base",
          "model_name": "LayoutModel",
          "model_module_version": "1.2.0",
          "state": {
            "_model_module": "@jupyter-widgets/base",
            "_model_module_version": "1.2.0",
            "_model_name": "LayoutModel",
            "_view_count": null,
            "_view_module": "@jupyter-widgets/base",
            "_view_module_version": "1.2.0",
            "_view_name": "LayoutView",
            "align_content": null,
            "align_items": null,
            "align_self": null,
            "border": null,
            "bottom": null,
            "display": null,
            "flex": null,
            "flex_flow": null,
            "grid_area": null,
            "grid_auto_columns": null,
            "grid_auto_flow": null,
            "grid_auto_rows": null,
            "grid_column": null,
            "grid_gap": null,
            "grid_row": null,
            "grid_template_areas": null,
            "grid_template_columns": null,
            "grid_template_rows": null,
            "height": null,
            "justify_content": null,
            "justify_items": null,
            "left": null,
            "margin": null,
            "max_height": null,
            "max_width": null,
            "min_height": null,
            "min_width": null,
            "object_fit": null,
            "object_position": null,
            "order": null,
            "overflow": null,
            "overflow_x": null,
            "overflow_y": null,
            "padding": null,
            "right": null,
            "top": null,
            "visibility": null,
            "width": null
          }
        },
        "3e54e929a54648c68fcc3fd72da965a2": {
          "model_module": "@jupyter-widgets/controls",
          "model_name": "ProgressStyleModel",
          "model_module_version": "1.5.0",
          "state": {
            "_model_module": "@jupyter-widgets/controls",
            "_model_module_version": "1.5.0",
            "_model_name": "ProgressStyleModel",
            "_view_count": null,
            "_view_module": "@jupyter-widgets/base",
            "_view_module_version": "1.2.0",
            "_view_name": "StyleView",
            "bar_color": null,
            "description_width": ""
          }
        },
        "01d3c01c39ae4abfa3c30c99b176e243": {
          "model_module": "@jupyter-widgets/base",
          "model_name": "LayoutModel",
          "model_module_version": "1.2.0",
          "state": {
            "_model_module": "@jupyter-widgets/base",
            "_model_module_version": "1.2.0",
            "_model_name": "LayoutModel",
            "_view_count": null,
            "_view_module": "@jupyter-widgets/base",
            "_view_module_version": "1.2.0",
            "_view_name": "LayoutView",
            "align_content": null,
            "align_items": null,
            "align_self": null,
            "border": null,
            "bottom": null,
            "display": null,
            "flex": null,
            "flex_flow": null,
            "grid_area": null,
            "grid_auto_columns": null,
            "grid_auto_flow": null,
            "grid_auto_rows": null,
            "grid_column": null,
            "grid_gap": null,
            "grid_row": null,
            "grid_template_areas": null,
            "grid_template_columns": null,
            "grid_template_rows": null,
            "height": null,
            "justify_content": null,
            "justify_items": null,
            "left": null,
            "margin": null,
            "max_height": null,
            "max_width": null,
            "min_height": null,
            "min_width": null,
            "object_fit": null,
            "object_position": null,
            "order": null,
            "overflow": null,
            "overflow_x": null,
            "overflow_y": null,
            "padding": null,
            "right": null,
            "top": null,
            "visibility": null,
            "width": null
          }
        },
        "b0222cb976944aa9b7aff68f425bf513": {
          "model_module": "@jupyter-widgets/controls",
          "model_name": "DescriptionStyleModel",
          "model_module_version": "1.5.0",
          "state": {
            "_model_module": "@jupyter-widgets/controls",
            "_model_module_version": "1.5.0",
            "_model_name": "DescriptionStyleModel",
            "_view_count": null,
            "_view_module": "@jupyter-widgets/base",
            "_view_module_version": "1.2.0",
            "_view_name": "StyleView",
            "description_width": ""
          }
        }
      }
    }
  },
  "nbformat": 4,
  "nbformat_minor": 5
}