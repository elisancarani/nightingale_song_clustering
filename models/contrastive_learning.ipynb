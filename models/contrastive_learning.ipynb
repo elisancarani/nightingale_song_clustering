{
  "nbformat": 4,
  "nbformat_minor": 0,
  "metadata": {
    "colab": {
      "provenance": []
    },
    "kernelspec": {
      "name": "python3",
      "display_name": "Python 3"
    },
    "language_info": {
      "name": "python"
    }
  },
  "cells": [
    {
      "cell_type": "code",
      "source": [
        "!pip install torch\n",
        "!pip install librosa"
      ],
      "metadata": {
        "id": "Set8DsarJPWj"
      },
      "execution_count": null,
      "outputs": []
    },
    {
      "cell_type": "code",
      "execution_count": null,
      "metadata": {
        "id": "6456a8b5"
      },
      "outputs": [],
      "source": [
        "from pathlib import Path\n",
        "import os\n",
        "import pandas as pd\n",
        "import librosa\n",
        "import re\n",
        "import matplotlib.pyplot as plt\n",
        "import numpy as np\n",
        "#from scipy.signal import butter, sosfiltfilt\n",
        "\n",
        "from sklearn.decomposition import PCA\n",
        "from sklearn.cluster import KMeans\n",
        "from sklearn.metrics import silhouette_score, silhouette_samples\n",
        "\n",
        "import cv2\n",
        "\n",
        "## tqdm for loading bars\n",
        "from tqdm.notebook import tqdm\n",
        "\n",
        "import tensorflow as tf\n",
        "\n",
        "## PyTorch\n",
        "import torch\n",
        "import torch.nn as nn\n",
        "import torch.utils.data as data\n",
        "import torch.optim as optim\n",
        "import torch.nn.functional as F\n",
        "from torch.utils.data import Dataset, DataLoader\n",
        "\n",
        "## Torchvision\n",
        "import torchvision\n",
        "from torchvision import transforms\n",
        "from torchvision import models\n",
        "\n",
        "from torchsummary import summary"
      ]
    },
    {
      "cell_type": "code",
      "source": [
        "torch.backends.cudnn.deterministic = True\n",
        "torch.backends.cudnn.benchmark = False\n",
        "#ensure reproducibility on gpu"
      ],
      "metadata": {
        "id": "RbRFsrHsJu8-"
      },
      "execution_count": null,
      "outputs": []
    },
    {
      "cell_type": "code",
      "source": [
        "from google.colab import drive\n",
        "drive.mount('/content/drive')"
      ],
      "metadata": {
        "colab": {
          "base_uri": "https://localhost:8080/"
        },
        "id": "yl1BB_7R_Lbb",
        "outputId": "ca55021a-065b-4e91-cbea-84028740255a"
      },
      "execution_count": null,
      "outputs": [
        {
          "output_type": "stream",
          "name": "stdout",
          "text": [
            "Drive already mounted at /content/drive; to attempt to forcibly remount, call drive.mount(\"/content/drive\", force_remount=True).\n"
          ]
        }
      ]
    },
    {
      "cell_type": "code",
      "source": [
        "path = \"/content/drive/MyDrive/Unibo/ai_in_industry/images/chromagrams/\"\n",
        "\n",
        "image_names = os.listdir(path)\n",
        "\n",
        "n_chroma = len(image_names)"
      ],
      "metadata": {
        "id": "NXPBtObIazXl"
      },
      "execution_count": null,
      "outputs": []
    },
    {
      "cell_type": "code",
      "source": [
        "batch_size = 64\n",
        "y_dim = 12\n",
        "x_dim = 474\n",
        "\n",
        "steps = n_chroma//batch_size"
      ],
      "metadata": {
        "id": "1jdmwYbZbqgB"
      },
      "execution_count": null,
      "outputs": []
    },
    {
      "cell_type": "markdown",
      "source": [
        "generator that is used instead of a dataloader in order to avoid exceeding the ram capacity"
      ],
      "metadata": {
        "id": "Zo8nZPzCJ0qf"
      }
    },
    {
      "cell_type": "code",
      "source": [
        "# Make this an infinite generator\n",
        "def gen(img_names):\n",
        "\n",
        "  while True:\n",
        "\n",
        "    i = 0\n",
        "    images = np.zeros((batch_size,y_dim,x_dim), dtype=np.float64)\n",
        "\n",
        "    while i < len(img_names):\n",
        "      complete_path = path + img_names[i]\n",
        "\n",
        "      images[i%batch_size,:,:] = cv2.imread(complete_path, cv2.IMREAD_GRAYSCALE)[:y_dim,:x_dim]/255\n",
        "      i += 1\n",
        "      if i%batch_size == 0:\n",
        "        images = images.reshape(batch_size, y_dim, x_dim, 1)\n",
        "        yield (images)\n",
        "        images = np.zeros((batch_size,y_dim,x_dim))"
      ],
      "metadata": {
        "id": "hs7ASvrmbQ_x"
      },
      "execution_count": null,
      "outputs": []
    },
    {
      "cell_type": "code",
      "source": [
        "class IterDataset(data.IterableDataset):\n",
        "    def __init__(self, generator):\n",
        "        self.generator = generator\n",
        "\n",
        "    def __iter__(self):\n",
        "        return self.generator()"
      ],
      "metadata": {
        "id": "-f2vU1IAe5tO"
      },
      "execution_count": null,
      "outputs": []
    },
    {
      "cell_type": "code",
      "source": [
        "images_gen = gen(image_names)"
      ],
      "metadata": {
        "id": "om5ZdNVfbWFc"
      },
      "execution_count": null,
      "outputs": []
    },
    {
      "cell_type": "markdown",
      "source": [
        "transformation function and data loader"
      ],
      "metadata": {
        "id": "_Gb3bI02KUiY"
      }
    },
    {
      "cell_type": "code",
      "source": [
        "transform = transforms.Compose([transforms.ToTensor(),\n",
        "                                transforms.Lambda(lambda x: x.repeat(3, 1, 1)),\n",
        "                                transforms.RandomAffine(degrees=0, translate=(0.1,0)),\n",
        "                                transforms.RandomErasing(p=0.4, scale=(0.02, 0.03), ratio=(0.2,0.3), value=0.6, inplace=False),  \n",
        "                                transforms.RandomErasing(p=0.4, scale=(0.02, 0.1), ratio=(0.02,0.05), value=0.9, inplace=False)\n",
        "                               ])"
      ],
      "metadata": {
        "id": "uXtyycGAp8py",
        "colab": {
          "base_uri": "https://localhost:8080/",
          "height": 35
        },
        "outputId": "26248dcf-e07b-435b-b32c-2b5de4cf7e63"
      },
      "execution_count": null,
      "outputs": [
        {
          "output_type": "execute_result",
          "data": {
            "text/plain": [
              "\"for index, img in enumerate(train_dataloader):\\n    print(img.shape)\\n    plt.imshow(img[0].permute(1, 2, 0)[:, :, 0], aspect = 'auto')\\n    plt.show()\""
            ],
            "application/vnd.google.colaboratory.intrinsic+json": {
              "type": "string"
            }
          },
          "metadata": {},
          "execution_count": 17
        }
      ]
    },
    {
      "cell_type": "code",
      "source": [
        "train_generator = IterDataset(images_gen) \n",
        "\n",
        "train_dataloader = torch.utils.data.DataLoader(train_generator)"
      ],
      "metadata": {
        "id": "Amf5wBooKmkR"
      },
      "execution_count": null,
      "outputs": []
    },
    {
      "cell_type": "code",
      "source": [
        "device = torch.device(\"cuda\" if torch.cuda.is_available() else \"cpu\")\n",
        "print(device)"
      ],
      "metadata": {
        "colab": {
          "base_uri": "https://localhost:8080/"
        },
        "id": "flaUkGc385dt",
        "outputId": "2f56a573-f605-4dca-9529-9e78f07810e4"
      },
      "execution_count": null,
      "outputs": [
        {
          "output_type": "stream",
          "name": "stdout",
          "text": [
            "cuda\n"
          ]
        }
      ]
    },
    {
      "cell_type": "code",
      "source": [
        "class SimCLRModel(nn.Module):\n",
        "    def __init__(self):\n",
        "      super(SimCLRModel, self).__init__()\n",
        "      self.resnet = torchvision.models.resnet50(weights=None)  #maybe we could use some already existing weights\n",
        "      \n",
        "      #self.resnet = ResNet(models.resnet.Bottleneck, [3, 8, 36, 3], pretrained = False)    #if we want to use a 1d tensor, but it might be easier to just paste it three times onto a 3d tensor\n",
        "      #self.avgpool = torch.nn.AvgPool2d()   #it flattens one dimension? if that's it we already have a 2d array\n",
        "      self.fc1 = nn.Linear(1000, 256)   #not sure about 1000\n",
        "      self.fc2 = nn.Linear(256, 128)\n",
        "      self.fc3 = nn.Linear(128, 50)\n",
        "      self.relu = nn.ReLU()\n",
        "\n",
        "    def forward(self, x):\n",
        "      x = self.resnet(x)\n",
        "      x = self.fc1(x)\n",
        "      x = self.relu(x)\n",
        "      x = self.fc2(x)\n",
        "      x = self.relu(x)\n",
        "      x = self.fc3(x)\n",
        "      return x"
      ],
      "metadata": {
        "id": "G4mjXuIkKspp"
      },
      "execution_count": null,
      "outputs": []
    },
    {
      "cell_type": "code",
      "source": [
        "model = SimCLRModel()\n",
        "model = model.to(device)"
      ],
      "metadata": {
        "id": "s4hf8T1wGkrO"
      },
      "execution_count": null,
      "outputs": []
    },
    {
      "cell_type": "code",
      "source": [
        "summary(model, (3, 12, 474))"
      ],
      "metadata": {
        "id": "Xny0pLTOK2TF"
      },
      "execution_count": null,
      "outputs": []
    },
    {
      "cell_type": "markdown",
      "source": [
        "loss function"
      ],
      "metadata": {
        "id": "69WXg_Wn9A9B"
      }
    },
    {
      "cell_type": "code",
      "source": [
        "negative_mask = np.ones((BATCH_SIZE, 2 * BATCH_SIZE), dtype=bool)\n",
        "for i in range(BATCH_SIZE):\n",
        "    negative_mask[i, i] = 0\n",
        "    negative_mask[i, i + BATCH_SIZE] = 0\n",
        "negative_mask = torch.from_numpy(negative_mask).to(device)\n",
        "\n",
        "def loss_fn(xis, xjs, model, optimizer, criterion, temperature):\n",
        "  optimizer.zero_grad()\n",
        "\n",
        "  xis = xis.to(device)\n",
        "  xjs = xjs.to(device)\n",
        "  xis = xis.float()\n",
        "  xjs = xjs.float()\n",
        "\n",
        "  zis = model(xis)\n",
        "  zjs = model(xjs)\n",
        "\n",
        "  zis = torch.nn.functional.normalize(zis, p=2, dim=1)\n",
        "  zjs = torch.nn.functional.normalize(zjs, p=2, dim=1)\n",
        "\n",
        "  l_pos = torch.matmul(torch.unsqueeze(zis, 1), torch.unsqueeze(zis, 2))\n",
        "  l_pos = torch.reshape(l_pos, (BATCH_SIZE, 1))\n",
        "  l_pos = l_pos / temperature\n",
        "\n",
        "  negatives = torch.cat([zjs, zis], axis=0)\n",
        "\n",
        "  loss = 0\n",
        "\n",
        "  for positives in [zis, zjs]:\n",
        "    \n",
        "      cosine_sim_2d = torch.nn.CosineSimilarity(dim=2, eps=1e-08)\n",
        "      l_neg = cosine_sim_2d(torch.unsqueeze(positives, 1), torch.unsqueeze(negatives, 0))\n",
        "\n",
        "      labels = torch.zeros(BATCH_SIZE, dtype=torch.int32).type(torch.LongTensor).to(device)\n",
        "\n",
        "      l_neg = torch.masked_select(l_neg, negative_mask)\n",
        "      l_neg = torch.reshape(l_neg, (BATCH_SIZE, -1))\n",
        "      l_neg = l_neg / temperature\n",
        "\n",
        "      logits = torch.cat([l_pos, l_neg], axis=1)\n",
        "      loss += criterion(input=logits, target=labels)\n",
        "\n",
        "  loss = loss / (2 * BATCH_SIZE)\n",
        "\n",
        "  loss.backward()\n",
        "  optimizer.step()\n",
        "\n",
        "  return loss"
      ],
      "metadata": {
        "id": "mVqH7d17o8jJ"
      },
      "execution_count": null,
      "outputs": []
    },
    {
      "cell_type": "markdown",
      "source": [
        "training function"
      ],
      "metadata": {
        "id": "rQSPjIzU99LE"
      }
    },
    {
      "cell_type": "code",
      "source": [
        "def train_simclr(model, dataloader, optimizer, criterion,\n",
        "                 temperature=0.1, epochs=3):\n",
        "    step_wise_loss = []\n",
        "    epoch_wise_loss = []\n",
        "\n",
        "    for epoch in tqdm(range(epochs)):\n",
        "        #for image_batch in dataloader:\n",
        "        for i in tqdm(range(steps)):\n",
        "            #print(i, \"/\", steps)\n",
        "            image_batch = next(images_gen)\n",
        "            a = transforms.Lambda(lambda x: torch.stack([transform(x_) for x_ in x]))(image_batch)\n",
        "            b = transforms.Lambda(lambda x: torch.stack([transform(x_) for x_ in x]))(image_batch)\n",
        "\n",
        "            loss = loss_fn(a, b, model, optimizer, criterion, temperature).item()\n",
        "            step_wise_loss.append(loss)\n",
        "\n",
        "        epoch_wise_loss.append(np.mean(step_wise_loss))    #does the mean make sense. find out in the next episode\n",
        "        \n",
        "        print(\"epoch: {} loss: {:.3f}\".format(epoch + 1, np.mean(step_wise_loss)))\n",
        "\n",
        "    return epoch_wise_loss, model"
      ],
      "metadata": {
        "id": "HmwUmjfY7CJ5"
      },
      "execution_count": null,
      "outputs": []
    },
    {
      "cell_type": "markdown",
      "source": [
        "run the training"
      ],
      "metadata": {
        "id": "126sVtoR9Fp6"
      }
    },
    {
      "cell_type": "code",
      "source": [
        "LEARNING_RATE = 1e-3\n",
        "\n",
        "criterion = torch.nn.CrossEntropyLoss()\n",
        "\n",
        "#decay_steps = 1000\n",
        "optimizer = optim.Adam(model.parameters(), lr=LEARNING_RATE)\n",
        "\n",
        "#MAYBE USE ADAMW BUT IT SHOULDN'T MAKE A BIG DIFFERENCE\n",
        "optimizerW = optim.AdamW(model.parameters(), lr=LEARNING_RATE, decay_steps = 1000)\n",
        "\n",
        "lr_scheduler = optim.lr_scheduler.CosineAnnealingLR(optimizer, T_max=100, eta_min=LEARNING_RATE/50) #t_max = max_epochs\n",
        "\n",
        "epoch_wise_loss, model_trained  = train_simclr(model, train_dataloader, optimizer, criterion,\n",
        "                 temperature=0.1, epochs=3)\n",
        "\n",
        "\n",
        "plt.plot(epoch_wise_loss)\n",
        "plt.show()"
      ],
      "metadata": {
        "colab": {
          "base_uri": "https://localhost:8080/",
          "height": 468,
          "referenced_widgets": [
            "ba09dfa34721430dafaee701b405f479",
            "c5a25c7f418842e6b23059ddfcf1329f",
            "17345ae279c7472d9abc7fa217332495",
            "dd98e3deaace48bbaf02717582aa9eae",
            "bb992f288cab4368b75a1b403581ff96",
            "ad2b7bb4438945f8a2892e104c021539",
            "fd01b1d4e8f34dfab0f947a44dc28e41",
            "cb86c3f3ddc34aa4aebadacdba9e7fc8",
            "ca0fd389f843400490f05b7d84c3789f",
            "27f8479b33174d88a361cc08ebec4712",
            "c7f230e4fa1f4bc8bcdbaf761e4f4875",
            "df0e52a900b2415a9b140cbcfc6e307a",
            "b3a34d964f7b466d978a5c2ba6749933",
            "3017b081453e4898a4af41e92b496dbb",
            "edffb676812446e49b0cbb5c94bd51c2",
            "8d15fc4e1c974a0990cb93b4121af914",
            "cf58ba608ef44a12a8aa0b9c65e3e25c",
            "e4c4adb8a91d4a238af30b7103cf91bf",
            "e2ad45a0d25b4763a0d380a22b7ad2ea",
            "a9108718e08242fc80e16bc7a695d111",
            "6596dd1b1fa9434184dde827a33c64bb",
            "1c58dcf1fde34866ba8acc586ea58ac4",
            "92481c8580794564b59a54ecc6d8a74f",
            "7e777b760b7f4be3954d7e48c04cae87",
            "d97cd60bb4d14fedb66d3fc261c72f51",
            "c037866cedae40fbb49f7f6402e7080a",
            "b135e702ea9f473db5a6566eecab3f07",
            "59dcdf697c524d079c31c714b2e6a730",
            "f2765d71f55d432f975ec6daf0475dd4",
            "a0ff55444bf3455d82b3f9c13211f3b4",
            "b6013419b299433e9fd339fa11c84f20",
            "e7a7e2c6d8004853ae2b291a69ffd29a",
            "8a018a82e2324ba99e3670b7f81b1813",
            "849eaecc7eb94a3583a07d3fb60de237",
            "e642993ae31a4f9c8fd3be9cb451b161",
            "af0c11279c944ddb98717c5f6abbff5b",
            "f90e75c694b444969a31ed21a6203698",
            "f1de48522dfb4d3c97d994a720bc2070",
            "d7d4edc61f774508a8ff45767bc354e4",
            "97466be73e3946549e57d50743894c90",
            "405691cafd0f4a82b9b5e001e2d98178",
            "1d6f710ac5774ced87521640fe560854",
            "700214a77e11460fa211be23c24a9267",
            "a39d359bb83e41b4a8d8c8c5a6cb5340"
          ]
        },
        "id": "8ZwTcAYJ9H5b",
        "outputId": "9eb7c14d-8dc8-4b58-c1c8-971213d81e33"
      },
      "execution_count": null,
      "outputs": [
        {
          "output_type": "display_data",
          "data": {
            "text/plain": [
              "  0%|          | 0/3 [00:00<?, ?it/s]"
            ],
            "application/vnd.jupyter.widget-view+json": {
              "version_major": 2,
              "version_minor": 0,
              "model_id": "ba09dfa34721430dafaee701b405f479"
            }
          },
          "metadata": {}
        },
        {
          "output_type": "display_data",
          "data": {
            "text/plain": [
              "  0%|          | 0/82 [00:00<?, ?it/s]"
            ],
            "application/vnd.jupyter.widget-view+json": {
              "version_major": 2,
              "version_minor": 0,
              "model_id": "df0e52a900b2415a9b140cbcfc6e307a"
            }
          },
          "metadata": {}
        },
        {
          "output_type": "stream",
          "name": "stdout",
          "text": [
            "epoch: 1 loss: 0.029\n"
          ]
        },
        {
          "output_type": "display_data",
          "data": {
            "text/plain": [
              "  0%|          | 0/82 [00:00<?, ?it/s]"
            ],
            "application/vnd.jupyter.widget-view+json": {
              "version_major": 2,
              "version_minor": 0,
              "model_id": "92481c8580794564b59a54ecc6d8a74f"
            }
          },
          "metadata": {}
        },
        {
          "output_type": "stream",
          "name": "stdout",
          "text": [
            "epoch: 2 loss: 0.019\n"
          ]
        },
        {
          "output_type": "display_data",
          "data": {
            "text/plain": [
              "  0%|          | 0/82 [00:00<?, ?it/s]"
            ],
            "application/vnd.jupyter.widget-view+json": {
              "version_major": 2,
              "version_minor": 0,
              "model_id": "849eaecc7eb94a3583a07d3fb60de237"
            }
          },
          "metadata": {}
        },
        {
          "output_type": "stream",
          "name": "stdout",
          "text": [
            "epoch: 3 loss: 0.015\n"
          ]
        },
        {
          "output_type": "display_data",
          "data": {
            "text/plain": [
              "<Figure size 432x288 with 1 Axes>"
            ],
            "image/png": "[encoded data removed]"
          },
          "metadata": {}
        }
      ]
    },
    {
      "cell_type": "markdown",
      "source": [
        "here we do the encoding on the test. Test is the set of the original images, without augmentation"
      ],
      "metadata": {
        "id": "pbHedw-sL6IC"
      }
    },
    {
      "cell_type": "code",
      "source": [
        "transform_test = transforms.Compose([transforms.ToTensor(),\n",
        "                                transforms.Lambda(lambda x: x.repeat(3, 1, 1, 1))])\n",
        "\n",
        "# empty numpy array, we want to append to an empty list basically\n",
        "all_features = np.array([]).reshape((0,50))\n",
        "\n",
        "for i in tqdm(range(steps)):\n",
        "  batch = next(images_gen).reshape((batch_size,y_dim,x_dim))\n",
        "  test = transform_test(batch)\n",
        "  test = test.permute((2, 0, 3, 1)).to(device).float()\n",
        "\n",
        "  features = model(test)\n",
        "\n",
        "  features = features.detach().cpu().numpy()\n",
        "\n",
        "  all_features = np.concatenate( (all_features, features) )\n",
        "\n",
        "print(all_features.shape)"
      ],
      "metadata": {
        "colab": {
          "base_uri": "https://localhost:8080/",
          "height": 66,
          "referenced_widgets": [
            "461c6f3be3974137968cb82b1b18b5a1",
            "cd3b53a8d83d47fbb176947a1eebcbf9",
            "d8497709e92c452c9eb8ce9906aacd16",
            "9cad97d7b703421193f5f8f5f73798dc",
            "e59209791ef64c8a9bcbdcbd86510dc0",
            "88e1c53f7d5b4c07b6ad8dd39ba7607c",
            "72279e5455ea4a088a3a296f54c2bb5f",
            "ce7452aa89d946bb9fef61555d5ad423",
            "2db1718eb2804033bacc74fa048aceba",
            "6e45fe8fbbcd412f907b92d9a69296d5",
            "16ebd190311b40b38e0254476c81692f"
          ]
        },
        "id": "wHMgM96VHg1A",
        "outputId": "830ab56f-c4e3-49f9-f077-278a654405e8"
      },
      "execution_count": null,
      "outputs": [
        {
          "output_type": "display_data",
          "data": {
            "text/plain": [
              "  0%|          | 0/82 [00:00<?, ?it/s]"
            ],
            "application/vnd.jupyter.widget-view+json": {
              "version_major": 2,
              "version_minor": 0,
              "model_id": "461c6f3be3974137968cb82b1b18b5a1"
            }
          },
          "metadata": {}
        },
        {
          "output_type": "stream",
          "name": "stdout",
          "text": [
            "(5248, 50)\n"
          ]
        }
      ]
    },
    {
      "cell_type": "markdown",
      "source": [
        "clustering"
      ],
      "metadata": {
        "id": "X1iD3-uMx4df"
      }
    },
    {
      "cell_type": "code",
      "source": [
        "from sklearn.metrics import calinski_harabasz_score\n",
        "\n",
        "cluster_number = range(2,120)  #(2,240,5) \n",
        "\n",
        "distortions = []\n",
        "silhouette_scores = []\n",
        "calinski_harabasz_scores = []\n",
        "for n in cluster_number:\n",
        "    print(n, end=' ')\n",
        "    estimator = KMeans(n_clusters = n, init='k-means++', n_init=10, max_iter=300)\n",
        "    y = estimator.fit_predict(all_features)\n",
        "    distortions.append(estimator.inertia_)\n",
        "    silhouette_scores.append(silhouette_score(all_features,y))\n",
        "    calinski_harabasz_scores.append(calinski_harabasz_score(all_features,y))\n",
        "print()"
      ],
      "metadata": {
        "id": "5UHc84jPqB7y",
        "colab": {
          "base_uri": "https://localhost:8080/"
        },
        "outputId": "45edf735-bdfa-4d57-ce44-b49374213ca4"
      },
      "execution_count": null,
      "outputs": [
        {
          "output_type": "stream",
          "name": "stdout",
          "text": [
            "2 3 4 5 6 7 8 9 10 11 12 13 14 15 16 17 18 19 \n"
          ]
        }
      ]
    },
    {
      "cell_type": "code",
      "source": [
        "t = cluster_number\n",
        "data1 = distortions\n",
        "data2 = silhouette_scores #calinski_harabasz_scores \n",
        "\n",
        "fig, ax1 = plt.subplots(figsize = (15, 10))\n",
        "          \n",
        "color = 'tab:red'\n",
        "ax1.set_xlabel('number of clusters')\n",
        "ax1.set_ylabel('inertia', color=color)\n",
        "ax1.plot(t, data1, color=color)\n",
        "ax1.tick_params(axis='y', labelcolor=color)\n",
        "\n",
        "ax2 = ax1.twinx()  # instantiate a second axes that shares the same x-axis\n",
        "\n",
        "color = 'tab:blue'\n",
        "ax2.set_ylabel('calinski_harabasz_scores', color=color)  # we already handled the x-label with ax1\n",
        "ax2.plot(t, data2, color=color)\n",
        "ax2.tick_params(axis='y', labelcolor=color)\n",
        "#ax2.set_ylim(-0.03,1) # the axis for silhouette is [0,1]\n",
        "\n",
        "fig.tight_layout()  # otherwise the right y-label is slightly clipped\n",
        "\n",
        "plt.show()\n",
        "print(features[0].shape)"
      ],
      "metadata": {
        "id": "Dp70Qu5-xUxK",
        "colab": {
          "base_uri": "https://localhost:8080/",
          "height": 746
        },
        "outputId": "598c19cd-c08c-4368-b482-f4d71c670b36"
      },
      "execution_count": null,
      "outputs": [
        {
          "output_type": "display_data",
          "data": {
            "text/plain": [
              "<Figure size 1080x720 with 2 Axes>"
            ],
            "image/png": "[encoded data removed]"
          },
          "metadata": {
            "needs_background": "light"
          }
        },
        {
          "output_type": "stream",
          "name": "stdout",
          "text": [
            "(50,)\n"
          ]
        }
      ]
    },
    {
      "cell_type": "code",
      "execution_count": null,
      "metadata": {
        "id": "a3c157eb"
      },
      "outputs": [],
      "source": [
        "import matplotlib.pyplot as plt\n",
        "from matplotlib import cm\n",
        "import numpy as np\n",
        "\n",
        "def plot_clusters(X, y, dim, points=None,\n",
        "                  labels_prefix = 'cluster', \n",
        "                  points_name = 'centroids',\n",
        "                  colors = cm.tab10, # a qualitative map \n",
        "                      # https://matplotlib.org/examples/color/colormaps_reference.html\n",
        "#                   colors = ['brown', 'orange', 'olive', \n",
        "#                             'green', 'cyan', 'blue', \n",
        "#                             'purple', 'pink'],\n",
        "#                   points_color = 'red'\n",
        "                  points_color = cm.tab10(10), # by default the last of the map (to be improved)\n",
        "                  dbscan = False):\n",
        "    \"\"\"\n",
        "    Plot a two dimensional projection of an array of labelled points\n",
        "    X:      array with at least two columns\n",
        "    y:      vector of labels, length as number of rows in X\n",
        "    dim:    the two columns to project, inside range of X columns, e.g. (0,1)\n",
        "    points: additional points to plot as 'stars'\n",
        "    labels_prefix: prefix to the labels for the legend ['cluster']\n",
        "    points_name:   legend name for the additional points ['centroids']\n",
        "    colors: a color map\n",
        "    points_color: the color for the points\n",
        "    \"\"\"\n",
        "    # plot the labelled (colored) dataset and the points\n",
        "    labels = np.unique(y)\n",
        "    for i in range(len(labels)):\n",
        "        color = colors(i / len(labels)) # choose a color from the map\n",
        "        plt.scatter(X[y==labels[i],dim[0]], \n",
        "                    X[y==labels[i],dim[1]], \n",
        "                    s=10, \n",
        "                    c = [color], # scatter requires a sequence of colors\n",
        "                    marker='s', \n",
        "                    label=labels_prefix+str(labels[i]))\n",
        "    if dbscan == False:\n",
        "        plt.scatter(points[:,dim[0]], points[:,dim[1]], s=50, marker='*', c=[points_color], label=points_name)\n",
        "    plt.legend()\n",
        "    plt.grid()\n",
        "    plt.show() "
      ]
    },
    {
      "cell_type": "markdown",
      "source": [
        "kmeans"
      ],
      "metadata": {
        "id": "JQ3yVL8lOm2j"
      }
    },
    {
      "cell_type": "code",
      "source": [
        "good_k = 15\n",
        "\n",
        "estimator = KMeans(n_clusters = good_k, init='k-means++', n_init=10, max_iter=300,)\n",
        "y = estimator.fit_predict(features)"
      ],
      "metadata": {
        "id": "chONxf3QzBl-"
      },
      "execution_count": null,
      "outputs": []
    },
    {
      "cell_type": "code",
      "source": [
        "plot_clusters(features, y, dim= (0,1), points= estimator.cluster_centers_)"
      ],
      "metadata": {
        "id": "lCmSgT-9ypEv",
        "colab": {
          "base_uri": "https://localhost:8080/",
          "height": 265
        },
        "outputId": "01bccc53-ffda-45ca-d7a8-cde649398579"
      },
      "execution_count": null,
      "outputs": [
        {
          "output_type": "display_data",
          "data": {
            "text/plain": [
              "<Figure size 432x288 with 1 Axes>"
            ],
            "image/png": "[encoded data removed]"
          },
          "metadata": {
            "needs_background": "light"
          }
        }
      ]
    },
    {
      "cell_type": "markdown",
      "source": [
        "dbscan"
      ],
      "metadata": {
        "id": "cc8frlupOn3v"
      }
    },
    {
      "cell_type": "code",
      "source": [
        "from sklearn.cluster import DBSCAN\n",
        "\n",
        "#definition of the dbscan model\n",
        "db_model = DBSCAN(eps=0.05, min_samples=10) \n",
        "y_pred = db_model.fit_predict(pca_chromagrams) #dbscan predictions"
      ],
      "metadata": {
        "id": "miA_qoy-BlhU"
      },
      "execution_count": null,
      "outputs": []
    },
    {
      "cell_type": "code",
      "source": [
        "plot_clusters(X, y_pred, dim= (0,1), dbscan = True)"
      ],
      "metadata": {
        "colab": {
          "base_uri": "https://localhost:8080/",
          "height": 265
        },
        "id": "Vv819c-mDwDt",
        "outputId": "5cb0816b-65a1-448c-98a0-77bbb53a44a2"
      },
      "execution_count": null,
      "outputs": [
        {
          "output_type": "display_data",
          "data": {
            "text/plain": [
              "<Figure size 432x288 with 1 Axes>"
            ],
            "image/png": "[encoded data removed]"
          },
          "metadata": {
            "needs_background": "light"
          }
        }
      ]
    }
  ]
}