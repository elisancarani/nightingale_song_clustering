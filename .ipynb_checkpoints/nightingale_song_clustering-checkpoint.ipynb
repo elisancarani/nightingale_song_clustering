{
 "cells": [
  {
   "cell_type": "markdown",
   "id": "495959a0",
   "metadata": {},
   "source": [
    "# Utils\n",
    "\n",
    "* https://analyticsindiamag.com/a-tutorial-on-spectral-feature-extraction-for-audio-analytics/\n"
   ]
  },
  {
   "cell_type": "code",
   "execution_count": 68,
   "id": "6456a8b5",
   "metadata": {},
   "outputs": [],
   "source": [
    "#!pip install librosa\n",
    "from pathlib import Path\n",
    "import os\n",
    "import pandas as pd\n",
    "import librosa\n",
    "import re"
   ]
  },
  {
   "cell_type": "code",
   "execution_count": 92,
   "id": "a7ea7418",
   "metadata": {},
   "outputs": [],
   "source": [
    "DIR = './dataset/songs_extracted'"
   ]
  },
  {
   "cell_type": "code",
   "execution_count": 90,
   "id": "8b90c0e6",
   "metadata": {},
   "outputs": [],
   "source": [
    "#function that loads the songs from the songs_extracted dataset\n",
    "def load_songs_extracted(directory):\n",
    "    data = []\n",
    "    \n",
    "    for bird_names in os.listdir(directory):\n",
    "        path_bird_names = os.path.join(directory, bird_names)\n",
    "        for channel in os.listdir(path_bird_names):\n",
    "            if channel == \"CH2\":\n",
    "                path_channel  = os.path.join(path_bird_names, channel)\n",
    "                for song in  os.listdir(path_channel):\n",
    "                    song_num = int(re.search('\\d+', song).group())\n",
    "                    path_song = os.path.join(path_channel, song)\n",
    "                    signal, sr = librosa.load(path_song)\n",
    "                    data.append([bird_names, song_num, sr, signal]) #channel is CH2 by default\n",
    "\n",
    "    # return dataframe creation\n",
    "    return pd.DataFrame(data, columns=['bird', 'song', 'sr', 'signal'])"
   ]
  },
  {
   "cell_type": "code",
   "execution_count": 91,
   "id": "959e3bc3",
   "metadata": {},
   "outputs": [
    {
     "data": {
      "text/html": [
       "<div>\n",
       "<style scoped>\n",
       "    .dataframe tbody tr th:only-of-type {\n",
       "        vertical-align: middle;\n",
       "    }\n",
       "\n",
       "    .dataframe tbody tr th {\n",
       "        vertical-align: top;\n",
       "    }\n",
       "\n",
       "    .dataframe thead th {\n",
       "        text-align: right;\n",
       "    }\n",
       "</style>\n",
       "<table border=\"1\" class=\"dataframe\">\n",
       "  <thead>\n",
       "    <tr style=\"text-align: right;\">\n",
       "      <th></th>\n",
       "      <th>bird</th>\n",
       "      <th>song</th>\n",
       "      <th>sr</th>\n",
       "      <th>signal</th>\n",
       "    </tr>\n",
       "  </thead>\n",
       "  <tbody>\n",
       "    <tr>\n",
       "      <th>0</th>\n",
       "      <td>andrei_con</td>\n",
       "      <td>114</td>\n",
       "      <td>22050</td>\n",
       "      <td>[0.0013272512, 0.0036196064, 0.0028788769, 0.0...</td>\n",
       "    </tr>\n",
       "    <tr>\n",
       "      <th>1</th>\n",
       "      <td>andrei_con</td>\n",
       "      <td>100</td>\n",
       "      <td>22050</td>\n",
       "      <td>[0.003028358, 0.0048201466, 0.0032087709, 0.00...</td>\n",
       "    </tr>\n",
       "    <tr>\n",
       "      <th>2</th>\n",
       "      <td>andrei_con</td>\n",
       "      <td>128</td>\n",
       "      <td>22050</td>\n",
       "      <td>[0.00012221532, 4.9742997e-05, -1.5189679e-05,...</td>\n",
       "    </tr>\n",
       "    <tr>\n",
       "      <th>3</th>\n",
       "      <td>andrei_con</td>\n",
       "      <td>20</td>\n",
       "      <td>22050</td>\n",
       "      <td>[0.0038238415, 0.0023970515, -0.0014926962, -0...</td>\n",
       "    </tr>\n",
       "    <tr>\n",
       "      <th>4</th>\n",
       "      <td>andrei_con</td>\n",
       "      <td>34</td>\n",
       "      <td>22050</td>\n",
       "      <td>[7.519682e-05, 5.1899126e-05, 2.6440664e-06, -...</td>\n",
       "    </tr>\n",
       "  </tbody>\n",
       "</table>\n",
       "</div>"
      ],
      "text/plain": [
       "         bird  song     sr                                             signal\n",
       "0  andrei_con   114  22050  [0.0013272512, 0.0036196064, 0.0028788769, 0.0...\n",
       "1  andrei_con   100  22050  [0.003028358, 0.0048201466, 0.0032087709, 0.00...\n",
       "2  andrei_con   128  22050  [0.00012221532, 4.9742997e-05, -1.5189679e-05,...\n",
       "3  andrei_con    20  22050  [0.0038238415, 0.0023970515, -0.0014926962, -0...\n",
       "4  andrei_con    34  22050  [7.519682e-05, 5.1899126e-05, 2.6440664e-06, -..."
      ]
     },
     "execution_count": 91,
     "metadata": {},
     "output_type": "execute_result"
    }
   ],
   "source": [
    "df = load_songs_extracted(Path(DIR))\n",
    "df.head()"
   ]
  },
  {
   "cell_type": "code",
   "execution_count": null,
   "id": "57aa889c",
   "metadata": {},
   "outputs": [],
   "source": [
    "df.shape"
   ]
  },
  {
   "cell_type": "code",
   "execution_count": null,
   "id": "89736e29",
   "metadata": {},
   "outputs": [],
   "source": []
  }
 ],
 "metadata": {
  "kernelspec": {
   "display_name": "Python 3 (ipykernel)",
   "language": "python",
   "name": "python3"
  },
  "language_info": {
   "codemirror_mode": {
    "name": "ipython",
    "version": 3
   },
   "file_extension": ".py",
   "mimetype": "text/x-python",
   "name": "python",
   "nbconvert_exporter": "python",
   "pygments_lexer": "ipython3",
   "version": "3.10.6"
  }
 },
 "nbformat": 4,
 "nbformat_minor": 5
}
